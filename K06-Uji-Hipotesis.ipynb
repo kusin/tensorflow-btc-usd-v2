{
 "cells": [
  {
   "cell_type": "markdown",
   "metadata": {},
   "source": [
    "## Uji Hipotesis - Model Prediksi BTC-USD "
   ]
  },
  {
   "cell_type": "code",
   "execution_count": 1,
   "metadata": {},
   "outputs": [],
   "source": [
    "# lib statistic \n",
    "import scipy.stats as sc\n",
    "\n",
    "# lib manipulation dataset\n",
    "import pandas as pd\n",
    "import numpy as np\n",
    "\n",
    "# lib data visualization\n",
    "import seaborn as sns\n",
    "import matplotlib.pyplot as plt\n",
    "\n",
    "# lib min-max scaler\n",
    "from sklearn.preprocessing import MinMaxScaler"
   ]
  },
  {
   "cell_type": "code",
   "execution_count": 2,
   "metadata": {},
   "outputs": [
    {
     "data": {
      "text/html": [
       "<div>\n",
       "<style scoped>\n",
       "    .dataframe tbody tr th:only-of-type {\n",
       "        vertical-align: middle;\n",
       "    }\n",
       "\n",
       "    .dataframe tbody tr th {\n",
       "        vertical-align: top;\n",
       "    }\n",
       "\n",
       "    .dataframe thead th {\n",
       "        text-align: right;\n",
       "    }\n",
       "</style>\n",
       "<table border=\"1\" class=\"dataframe\">\n",
       "  <thead>\n",
       "    <tr style=\"text-align: right;\">\n",
       "      <th></th>\n",
       "      <th>LSTM-R</th>\n",
       "      <th>LSTM-MAE</th>\n",
       "      <th>LSTM-RMSE</th>\n",
       "      <th>LSTM-MAPE</th>\n",
       "      <th>LSTM-TIME</th>\n",
       "      <th>GRU-R</th>\n",
       "      <th>GRU-MAE</th>\n",
       "      <th>GRU-RMSE</th>\n",
       "      <th>GRU-MAPE</th>\n",
       "      <th>GRU-TIME</th>\n",
       "    </tr>\n",
       "  </thead>\n",
       "  <tbody>\n",
       "    <tr>\n",
       "      <th>25</th>\n",
       "      <td>0.996</td>\n",
       "      <td>998.54</td>\n",
       "      <td>1389.89</td>\n",
       "      <td>0.033</td>\n",
       "      <td>206.71</td>\n",
       "      <td>0.998</td>\n",
       "      <td>745.23</td>\n",
       "      <td>1138.93</td>\n",
       "      <td>0.022</td>\n",
       "      <td>182.44</td>\n",
       "    </tr>\n",
       "    <tr>\n",
       "      <th>26</th>\n",
       "      <td>0.996</td>\n",
       "      <td>927.54</td>\n",
       "      <td>1492.65</td>\n",
       "      <td>0.026</td>\n",
       "      <td>212.06</td>\n",
       "      <td>0.998</td>\n",
       "      <td>655.64</td>\n",
       "      <td>1057.58</td>\n",
       "      <td>0.020</td>\n",
       "      <td>187.18</td>\n",
       "    </tr>\n",
       "    <tr>\n",
       "      <th>27</th>\n",
       "      <td>0.997</td>\n",
       "      <td>1103.58</td>\n",
       "      <td>1731.08</td>\n",
       "      <td>0.031</td>\n",
       "      <td>200.93</td>\n",
       "      <td>0.998</td>\n",
       "      <td>742.61</td>\n",
       "      <td>1135.24</td>\n",
       "      <td>0.022</td>\n",
       "      <td>175.36</td>\n",
       "    </tr>\n",
       "    <tr>\n",
       "      <th>28</th>\n",
       "      <td>0.996</td>\n",
       "      <td>1053.37</td>\n",
       "      <td>1506.68</td>\n",
       "      <td>0.034</td>\n",
       "      <td>201.54</td>\n",
       "      <td>0.998</td>\n",
       "      <td>959.82</td>\n",
       "      <td>1430.14</td>\n",
       "      <td>0.027</td>\n",
       "      <td>179.48</td>\n",
       "    </tr>\n",
       "    <tr>\n",
       "      <th>29</th>\n",
       "      <td>0.996</td>\n",
       "      <td>1153.48</td>\n",
       "      <td>1703.01</td>\n",
       "      <td>0.035</td>\n",
       "      <td>215.59</td>\n",
       "      <td>0.997</td>\n",
       "      <td>901.25</td>\n",
       "      <td>1218.17</td>\n",
       "      <td>0.030</td>\n",
       "      <td>186.33</td>\n",
       "    </tr>\n",
       "  </tbody>\n",
       "</table>\n",
       "</div>"
      ],
      "text/plain": [
       "    LSTM-R  LSTM-MAE  LSTM-RMSE  LSTM-MAPE  LSTM-TIME  GRU-R  GRU-MAE  \\\n",
       "25   0.996    998.54    1389.89      0.033     206.71  0.998   745.23   \n",
       "26   0.996    927.54    1492.65      0.026     212.06  0.998   655.64   \n",
       "27   0.997   1103.58    1731.08      0.031     200.93  0.998   742.61   \n",
       "28   0.996   1053.37    1506.68      0.034     201.54  0.998   959.82   \n",
       "29   0.996   1153.48    1703.01      0.035     215.59  0.997   901.25   \n",
       "\n",
       "    GRU-RMSE  GRU-MAPE  GRU-TIME  \n",
       "25   1138.93     0.022    182.44  \n",
       "26   1057.58     0.020    187.18  \n",
       "27   1135.24     0.022    175.36  \n",
       "28   1430.14     0.027    179.48  \n",
       "29   1218.17     0.030    186.33  "
      ]
     },
     "execution_count": 2,
     "metadata": {},
     "output_type": "execute_result"
    }
   ],
   "source": [
    "# load dataset\n",
    "dataset = pd.read_excel(\"dataset/hasil_penelitian.xlsx\", sheet_name=\"hasil evaluasi windows\")\n",
    "np.round(dataset.tail(),3)"
   ]
  },
  {
   "cell_type": "markdown",
   "metadata": {},
   "source": [
    "### Hypothesis Test of Non-parametric"
   ]
  },
  {
   "cell_type": "code",
   "execution_count": 3,
   "metadata": {},
   "outputs": [],
   "source": [
    "def boxplot(data, min, max, title):\n",
    "\n",
    "  # create boxplot\n",
    "  fig, ax = plt.subplots(figsize=(8,4))\n",
    "  sns.boxplot(data=data)\n",
    "\n",
    "  # set labels\n",
    "  ax.set_title(title)\n",
    "  ax.set_xlabel('')\n",
    "  ax.set_ylabel('')\n",
    "  ax.set_ylim(min,max)\n",
    "  ax.grid(True)\n",
    "\n",
    "  # show boxplot\n",
    "  plt.show()"
   ]
  },
  {
   "cell_type": "code",
   "execution_count": 4,
   "metadata": {},
   "outputs": [],
   "source": [
    "# Hipotesa Awal\n",
    "# H0 = Data terdistribusi normal\n",
    "# H1 = Data tidak terdistribusi normal\n",
    "\n",
    "# Interpretasi hasil:\n",
    "# Terima HO = p-value > 0.05 \n",
    "# Terima H1 = p-value < 0.05 \n",
    "\n",
    "# func normality test\n",
    "def normality(lstm, gru):\n",
    "  \n",
    "  print(\"Hasil Uji-Shapiro-Wilk\")\n",
    "  print(\"----------------------\")\n",
    "\n",
    "  # normality test\n",
    "  if sc.shapiro(lstm).pvalue > 0.05:\n",
    "    print(\"Terima H0 = data terdistribusi normal\")\n",
    "  else:\n",
    "    print(\"Terima H1 = data tidak terdistribusi normal\")\n",
    "  print(\"LSTM. p-value\",sc.shapiro(lstm).pvalue)\n",
    "  print(\"\")\n",
    "\n",
    "  # normality test\n",
    "  if sc.shapiro(gru).pvalue > 0.05:\n",
    "    print(\"Terima H0 = data terdistribusi normal\")\n",
    "  else:\n",
    "    print(\"Terima H1 = data tidak terdistribusi normal\")\n",
    "  print(\"GRU. p-value\",sc.shapiro(gru).pvalue)\n",
    "  print(\"\")\n",
    "\n",
    "  # ---------------------------------------------------------------\n",
    "\n",
    "  print(\"Hasil Uji-Anderson-Darling \")\n",
    "  print(\"----------------------\")\n",
    "\n",
    "  # normality test\n",
    "  if sc.anderson(lstm).statistic > 0.05:\n",
    "    print(\"Terima H0 = data terdistribusi normal\")\n",
    "  else:\n",
    "    print(\"Terima H1 = data tidak terdistribusi normal\")\n",
    "  print(\"LSTM. p-value\",sc.anderson(lstm).statistic)\n",
    "  print(\"\")\n",
    "\n",
    "  # normality test\n",
    "  if sc.anderson(gru).statistic > 0.05:\n",
    "    print(\"Terima H0 = data terdistribusi normal\")\n",
    "  else:\n",
    "    print(\"Terima H1 = data tidak terdistribusi normal\")\n",
    "  print(\"GRU. p-value\",sc.anderson(gru).statistic)\n",
    "  print(\"\")"
   ]
  },
  {
   "cell_type": "code",
   "execution_count": 5,
   "metadata": {},
   "outputs": [],
   "source": [
    "# Hipotesa Awal\n",
    "# H0 = Tidak ada perbedaan kinerja antara LSTM dan GRU.\n",
    "# H1 = Ada perbedaan kinerja antara LSTM dan GRU.\n",
    "\n",
    "# Interpretasi hasil:\n",
    "# Terima HO = p-value > 0.05 \n",
    "# Terima H1 = p-value < 0.05 \n",
    "\n",
    "# func hypothesis test\n",
    "def hypothesis(lstm, gru):\n",
    "  \n",
    "  # hitung uji t independent\n",
    "  hasil = sc.ttest_ind(lstm, gru).pvalue\n",
    "  \n",
    "  # hasil uji t independent\n",
    "  if hasil > 0.05:\n",
    "    print(\"H0 = Tidak ada perbedaan kinerja antara LSTM dan GRU\")\n",
    "  else:\n",
    "    print(\"H1 = Ada perbedaan kinerja antara LSTM dan GRU\")\n",
    "  print(\"p-value\", hasil)"
   ]
  },
  {
   "cell_type": "code",
   "execution_count": 6,
   "metadata": {},
   "outputs": [],
   "source": [
    "# func hypothesis test\n",
    "def hypothesis_nonparametrik(lstm, gru):\n",
    "  \n",
    "  # Mann-Whitney Test\n",
    "  Mann_Whitney = np.round(sc.mannwhitneyu(lstm, gru).pvalue,4)\n",
    "\n",
    "  # Intrepetasi hasil\n",
    "  print(\"Mann_Whitney\")\n",
    "  if Mann_Whitney > 0.05:\n",
    "    print(\"Karena p-value:\",Mann_Whitney,\"maka Terima H0\")\n",
    "  else :\n",
    "    print(\"Karena p-value:\",Mann_Whitney,\"maka Terima H1\")\n",
    "  print(\"\")\n",
    "  # --------------------------------------------------------------\n",
    "  \n",
    "  # Wilcoxon Rank Test\n",
    "  Wilcoxon = np.round(sc.wilcoxon(lstm, gru).pvalue,4)\n",
    "\n",
    "  # Intrepetasi hasil\n",
    "  print(\"Wilcoxon Rank Test\")\n",
    "  if Wilcoxon > 0.05:\n",
    "    print(\"Karena p-value:\",Wilcoxon,\"maka Terima H0\")\n",
    "  else :\n",
    "    print(\"Karena p-value:\",Wilcoxon,\"maka Terima H1\")\n",
    "  print(\"\")\n",
    "  # --------------------------------------------------------------\n",
    "\n",
    "  # Kruskal-Wallis Test\n",
    "  Kruskal_Wallis = np.round(sc.kruskal(lstm, gru).pvalue,4)\n",
    "\n",
    "  # Intrepetasi hasil\n",
    "  print(\"Kruskal-Wallis Test\")\n",
    "  if Kruskal_Wallis > 0.05:\n",
    "    print(\"Karena p-value:\",Kruskal_Wallis,\"maka Terima H0\")\n",
    "  else :\n",
    "    print(\"Karena p-value:\",Kruskal_Wallis,\"maka Terima H1\")\n",
    "  print(\"\")\n",
    "  # --------------------------------------------------------------"
   ]
  },
  {
   "cell_type": "markdown",
   "metadata": {},
   "source": [
    "### Hypothesis Test for R Values"
   ]
  },
  {
   "cell_type": "code",
   "execution_count": 7,
   "metadata": {},
   "outputs": [
    {
     "data": {
      "image/png": "[encoded data removed]",
      "text/plain": [
       "<Figure size 800x400 with 1 Axes>"
      ]
     },
     "metadata": {},
     "output_type": "display_data"
    }
   ],
   "source": [
    "df = dataset[[\"LSTM-R\", \"GRU-R\"]]\n",
    "df.columns = [\"LSTM\", \"GRU\"]\n",
    "boxplot(\n",
    "  data=df, min=0.9950, max=0.999,\n",
    "  title=\"Distribution of R values\")"
   ]
  },
  {
   "cell_type": "code",
   "execution_count": 8,
   "metadata": {},
   "outputs": [
    {
     "name": "stdout",
     "output_type": "stream",
     "text": [
      "Hasil Uji-Shapiro-Wilk\n",
      "----------------------\n",
      "Terima H0 = data terdistribusi normal\n",
      "LSTM. p-value 0.14993715286254883\n",
      "\n",
      "Terima H1 = data tidak terdistribusi normal\n",
      "GRU. p-value 5.603499886319696e-08\n",
      "\n",
      "Hasil Uji-Anderson-Darling \n",
      "----------------------\n",
      "Terima H0 = data terdistribusi normal\n",
      "LSTM. p-value 0.5751921551328074\n",
      "\n",
      "Terima H0 = data terdistribusi normal\n",
      "GRU. p-value 5.534314846663683\n",
      "\n"
     ]
    }
   ],
   "source": [
    "normality(dataset[\"LSTM-R\"], dataset[\"GRU-R\"])"
   ]
  },
  {
   "cell_type": "code",
   "execution_count": 9,
   "metadata": {},
   "outputs": [
    {
     "name": "stdout",
     "output_type": "stream",
     "text": [
      "H1 = Ada perbedaan kinerja antara LSTM dan GRU\n",
      "p-value 7.180688842500834e-37\n"
     ]
    }
   ],
   "source": [
    "hypothesis(dataset[\"LSTM-R\"], dataset[\"GRU-R\"])"
   ]
  },
  {
   "cell_type": "markdown",
   "metadata": {},
   "source": [
    "### Hypothesis Test for MAE Values"
   ]
  },
  {
   "cell_type": "code",
   "execution_count": 10,
   "metadata": {},
   "outputs": [
    {
     "data": {
      "image/png": "[encoded data removed]",
      "text/plain": [
       "<Figure size 800x400 with 1 Axes>"
      ]
     },
     "metadata": {},
     "output_type": "display_data"
    }
   ],
   "source": [
    "df = dataset[[\"LSTM-MAE\", \"GRU-MAE\"]]\n",
    "df.columns = [\"LSTM\", \"GRU\"]\n",
    "boxplot(\n",
    "  data=df, min=600, max=1400,\n",
    "  title=\"Distribution of MAE values\")"
   ]
  },
  {
   "cell_type": "code",
   "execution_count": 11,
   "metadata": {},
   "outputs": [
    {
     "name": "stdout",
     "output_type": "stream",
     "text": [
      "Hasil Uji-Shapiro-Wilk\n",
      "----------------------\n",
      "Terima H0 = data terdistribusi normal\n",
      "LSTM. p-value 0.31443217396736145\n",
      "\n",
      "Terima H0 = data terdistribusi normal\n",
      "GRU. p-value 0.08161614835262299\n",
      "\n",
      "Hasil Uji-Anderson-Darling \n",
      "----------------------\n",
      "Terima H0 = data terdistribusi normal\n",
      "LSTM. p-value 0.34925868702157814\n",
      "\n",
      "Terima H0 = data terdistribusi normal\n",
      "GRU. p-value 0.6964302789772603\n",
      "\n"
     ]
    }
   ],
   "source": [
    "normality(dataset[\"LSTM-MAE\"], dataset[\"GRU-MAE\"])"
   ]
  },
  {
   "cell_type": "code",
   "execution_count": 12,
   "metadata": {},
   "outputs": [
    {
     "name": "stdout",
     "output_type": "stream",
     "text": [
      "H1 = Ada perbedaan kinerja antara LSTM dan GRU\n",
      "p-value 5.387622404564988e-06\n"
     ]
    }
   ],
   "source": [
    "hypothesis(dataset[\"LSTM-MAE\"], dataset[\"GRU-MAE\"])"
   ]
  },
  {
   "cell_type": "markdown",
   "metadata": {},
   "source": [
    "### Hypothesis Test for RMSE Values"
   ]
  },
  {
   "cell_type": "code",
   "execution_count": 13,
   "metadata": {},
   "outputs": [
    {
     "data": {
      "image/png": "[encoded data removed]",
      "text/plain": [
       "<Figure size 800x400 with 1 Axes>"
      ]
     },
     "metadata": {},
     "output_type": "display_data"
    }
   ],
   "source": [
    "df = dataset[[\"LSTM-RMSE\", \"GRU-RMSE\"]]\n",
    "df.columns = [\"LSTM\", \"GRU\"]\n",
    "boxplot(\n",
    "  data=df, min=1000, max=2000,\n",
    "  title=\"Distribution of RMSE values\")"
   ]
  },
  {
   "cell_type": "code",
   "execution_count": 14,
   "metadata": {},
   "outputs": [
    {
     "name": "stdout",
     "output_type": "stream",
     "text": [
      "Hasil Uji-Shapiro-Wilk\n",
      "----------------------\n",
      "Terima H0 = data terdistribusi normal\n",
      "LSTM. p-value 0.35803624987602234\n",
      "\n",
      "Terima H1 = data tidak terdistribusi normal\n",
      "GRU. p-value 0.03260127454996109\n",
      "\n",
      "Hasil Uji-Anderson-Darling \n",
      "----------------------\n",
      "Terima H0 = data terdistribusi normal\n",
      "LSTM. p-value 0.44155757852294997\n",
      "\n",
      "Terima H0 = data terdistribusi normal\n",
      "GRU. p-value 0.8177630379804484\n",
      "\n"
     ]
    }
   ],
   "source": [
    "normality(dataset[\"LSTM-RMSE\"], dataset[\"GRU-RMSE\"])"
   ]
  },
  {
   "cell_type": "code",
   "execution_count": 15,
   "metadata": {},
   "outputs": [
    {
     "name": "stdout",
     "output_type": "stream",
     "text": [
      "H1 = Ada perbedaan kinerja antara LSTM dan GRU\n",
      "p-value 0.0002710847669349555\n"
     ]
    }
   ],
   "source": [
    "hypothesis(dataset[\"LSTM-RMSE\"], dataset[\"GRU-RMSE\"])"
   ]
  },
  {
   "cell_type": "markdown",
   "metadata": {},
   "source": [
    "### Hypothesis Test for MAPE Values"
   ]
  },
  {
   "cell_type": "code",
   "execution_count": 16,
   "metadata": {},
   "outputs": [
    {
     "data": {
      "image/png": "[encoded data removed]",
      "text/plain": [
       "<Figure size 800x400 with 1 Axes>"
      ]
     },
     "metadata": {},
     "output_type": "display_data"
    }
   ],
   "source": [
    "df = dataset[[\"LSTM-MAPE\", \"GRU-MAPE\"]]\n",
    "df.columns = [\"LSTM\", \"GRU\"]\n",
    "boxplot(\n",
    "  data=df, min=0.01, max=0.05,\n",
    "  title=\"Distribution of MAPE values\")"
   ]
  },
  {
   "cell_type": "code",
   "execution_count": 17,
   "metadata": {},
   "outputs": [
    {
     "name": "stdout",
     "output_type": "stream",
     "text": [
      "Hasil Uji-Shapiro-Wilk\n",
      "----------------------\n",
      "Terima H0 = data terdistribusi normal\n",
      "LSTM. p-value 0.18515214323997498\n",
      "\n",
      "Terima H0 = data terdistribusi normal\n",
      "GRU. p-value 0.20424135029315948\n",
      "\n",
      "Hasil Uji-Anderson-Darling \n",
      "----------------------\n",
      "Terima H0 = data terdistribusi normal\n",
      "LSTM. p-value 0.4220077954255821\n",
      "\n",
      "Terima H0 = data terdistribusi normal\n",
      "GRU. p-value 0.4575703209616542\n",
      "\n"
     ]
    }
   ],
   "source": [
    "normality(dataset[\"LSTM-MAPE\"], dataset[\"GRU-MAPE\"])"
   ]
  },
  {
   "cell_type": "code",
   "execution_count": 18,
   "metadata": {},
   "outputs": [
    {
     "name": "stdout",
     "output_type": "stream",
     "text": [
      "H1 = Ada perbedaan kinerja antara LSTM dan GRU\n",
      "p-value 2.7981200379782854e-09\n"
     ]
    }
   ],
   "source": [
    "hypothesis(dataset[\"LSTM-MAPE\"], dataset[\"GRU-MAPE\"])"
   ]
  },
  {
   "cell_type": "markdown",
   "metadata": {},
   "source": [
    "### Hypothesis Test for Time Values"
   ]
  },
  {
   "cell_type": "code",
   "execution_count": 19,
   "metadata": {},
   "outputs": [
    {
     "data": {
      "image/png": "[encoded data removed]",
      "text/plain": [
       "<Figure size 800x400 with 1 Axes>"
      ]
     },
     "metadata": {},
     "output_type": "display_data"
    }
   ],
   "source": [
    "df = dataset[[\"LSTM-TIME\", \"GRU-TIME\"]]\n",
    "df.columns = [\"LSTM\", \"GRU\"]\n",
    "boxplot(\n",
    "  data=df, min=170, max=230,\n",
    "  title=\"Distribution of TIME values\")"
   ]
  },
  {
   "cell_type": "code",
   "execution_count": 20,
   "metadata": {},
   "outputs": [
    {
     "name": "stdout",
     "output_type": "stream",
     "text": [
      "Hasil Uji-Shapiro-Wilk\n",
      "----------------------\n",
      "Terima H0 = data terdistribusi normal\n",
      "LSTM. p-value 0.27647462487220764\n",
      "\n",
      "Terima H0 = data terdistribusi normal\n",
      "GRU. p-value 0.4118049144744873\n",
      "\n",
      "Hasil Uji-Anderson-Darling \n",
      "----------------------\n",
      "Terima H0 = data terdistribusi normal\n",
      "LSTM. p-value 0.40516157236322314\n",
      "\n",
      "Terima H0 = data terdistribusi normal\n",
      "GRU. p-value 0.28951318225750455\n",
      "\n"
     ]
    }
   ],
   "source": [
    "normality(dataset[\"LSTM-TIME\"], dataset[\"GRU-TIME\"])"
   ]
  },
  {
   "cell_type": "code",
   "execution_count": 21,
   "metadata": {},
   "outputs": [
    {
     "name": "stdout",
     "output_type": "stream",
     "text": [
      "H1 = Ada perbedaan kinerja antara LSTM dan GRU\n",
      "p-value 5.8930445291238435e-25\n"
     ]
    }
   ],
   "source": [
    "hypothesis(dataset[\"LSTM-TIME\"], dataset[\"GRU-TIME\"])"
   ]
  },
  {
   "cell_type": "code",
   "execution_count": null,
   "metadata": {},
   "outputs": [],
   "source": []
  }
 ],
 "metadata": {
  "kernelspec": {
   "display_name": "base",
   "language": "python",
   "name": "python3"
  },
  "language_info": {
   "codemirror_mode": {
    "name": "ipython",
    "version": 3
   },
   "file_extension": ".py",
   "mimetype": "text/x-python",
   "name": "python",
   "nbconvert_exporter": "python",
   "pygments_lexer": "ipython3",
   "version": "3.11.7"
  }
 },
 "nbformat": 4,
 "nbformat_minor": 2
}
