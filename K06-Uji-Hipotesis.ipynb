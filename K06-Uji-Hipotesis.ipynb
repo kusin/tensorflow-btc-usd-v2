{
 "cells": [
  {
   "cell_type": "markdown",
   "metadata": {},
   "source": [
    "## Uji Hipotesis - Model Prediksi BTC-USD "
   ]
  },
  {
   "cell_type": "code",
   "execution_count": 1,
   "metadata": {},
   "outputs": [],
   "source": [
    "# lib statistic \n",
    "import scipy.stats as sc\n",
    "\n",
    "# lib manipulation dataset\n",
    "import pandas as pd\n",
    "import numpy as np\n",
    "\n",
    "# lib data visualization\n",
    "import seaborn as sns\n",
    "import matplotlib.pyplot as plt\n",
    "\n",
    "# lib min-max scaler\n",
    "from sklearn.preprocessing import MinMaxScaler"
   ]
  },
  {
   "cell_type": "markdown",
   "metadata": {},
   "source": [
    "### Load Dataset"
   ]
  },
  {
   "cell_type": "code",
   "execution_count": 2,
   "metadata": {},
   "outputs": [
    {
     "data": {
      "text/html": [
       "<div>\n",
       "<style scoped>\n",
       "    .dataframe tbody tr th:only-of-type {\n",
       "        vertical-align: middle;\n",
       "    }\n",
       "\n",
       "    .dataframe tbody tr th {\n",
       "        vertical-align: top;\n",
       "    }\n",
       "\n",
       "    .dataframe thead th {\n",
       "        text-align: right;\n",
       "    }\n",
       "</style>\n",
       "<table border=\"1\" class=\"dataframe\">\n",
       "  <thead>\n",
       "    <tr style=\"text-align: right;\">\n",
       "      <th></th>\n",
       "      <th>LSTM-R</th>\n",
       "      <th>LSTM-MAE</th>\n",
       "      <th>LSTM-RMSE</th>\n",
       "      <th>LSTM-MAPE</th>\n",
       "      <th>LSTM-TIME</th>\n",
       "      <th>GRU-R</th>\n",
       "      <th>GRU-MAE</th>\n",
       "      <th>GRU-RMSE</th>\n",
       "      <th>GRU-MAPE</th>\n",
       "      <th>GRU-TIME</th>\n",
       "    </tr>\n",
       "  </thead>\n",
       "  <tbody>\n",
       "    <tr>\n",
       "      <th>0</th>\n",
       "      <td>0.996</td>\n",
       "      <td>1082.83</td>\n",
       "      <td>1535.47</td>\n",
       "      <td>0.035</td>\n",
       "      <td>221.26</td>\n",
       "      <td>0.997</td>\n",
       "      <td>1314.78</td>\n",
       "      <td>2031.56</td>\n",
       "      <td>0.035</td>\n",
       "      <td>187.99</td>\n",
       "    </tr>\n",
       "    <tr>\n",
       "      <th>1</th>\n",
       "      <td>0.996</td>\n",
       "      <td>1091.48</td>\n",
       "      <td>1491.92</td>\n",
       "      <td>0.036</td>\n",
       "      <td>210.97</td>\n",
       "      <td>0.998</td>\n",
       "      <td>776.01</td>\n",
       "      <td>1171.66</td>\n",
       "      <td>0.023</td>\n",
       "      <td>190.84</td>\n",
       "    </tr>\n",
       "    <tr>\n",
       "      <th>2</th>\n",
       "      <td>0.996</td>\n",
       "      <td>1306.03</td>\n",
       "      <td>1594.93</td>\n",
       "      <td>0.047</td>\n",
       "      <td>215.56</td>\n",
       "      <td>0.998</td>\n",
       "      <td>1055.42</td>\n",
       "      <td>1534.85</td>\n",
       "      <td>0.030</td>\n",
       "      <td>186.80</td>\n",
       "    </tr>\n",
       "    <tr>\n",
       "      <th>3</th>\n",
       "      <td>0.996</td>\n",
       "      <td>1253.72</td>\n",
       "      <td>1644.21</td>\n",
       "      <td>0.043</td>\n",
       "      <td>207.76</td>\n",
       "      <td>0.997</td>\n",
       "      <td>683.48</td>\n",
       "      <td>1053.63</td>\n",
       "      <td>0.022</td>\n",
       "      <td>183.21</td>\n",
       "    </tr>\n",
       "    <tr>\n",
       "      <th>4</th>\n",
       "      <td>0.997</td>\n",
       "      <td>909.17</td>\n",
       "      <td>1456.14</td>\n",
       "      <td>0.026</td>\n",
       "      <td>217.82</td>\n",
       "      <td>0.998</td>\n",
       "      <td>729.81</td>\n",
       "      <td>1151.63</td>\n",
       "      <td>0.021</td>\n",
       "      <td>189.79</td>\n",
       "    </tr>\n",
       "  </tbody>\n",
       "</table>\n",
       "</div>"
      ],
      "text/plain": [
       "   LSTM-R  LSTM-MAE  LSTM-RMSE  LSTM-MAPE  LSTM-TIME  GRU-R  GRU-MAE  \\\n",
       "0   0.996   1082.83    1535.47      0.035     221.26  0.997  1314.78   \n",
       "1   0.996   1091.48    1491.92      0.036     210.97  0.998   776.01   \n",
       "2   0.996   1306.03    1594.93      0.047     215.56  0.998  1055.42   \n",
       "3   0.996   1253.72    1644.21      0.043     207.76  0.997   683.48   \n",
       "4   0.997    909.17    1456.14      0.026     217.82  0.998   729.81   \n",
       "\n",
       "   GRU-RMSE  GRU-MAPE  GRU-TIME  \n",
       "0   2031.56     0.035    187.99  \n",
       "1   1171.66     0.023    190.84  \n",
       "2   1534.85     0.030    186.80  \n",
       "3   1053.63     0.022    183.21  \n",
       "4   1151.63     0.021    189.79  "
      ]
     },
     "execution_count": 2,
     "metadata": {},
     "output_type": "execute_result"
    }
   ],
   "source": [
    "# load dataset\n",
    "dataset = pd.read_excel(\"dataset/hasil_penelitian.xlsx\", sheet_name=\"hasil evaluasi windows\")\n",
    "np.round(dataset[:5],3)"
   ]
  },
  {
   "cell_type": "code",
   "execution_count": 3,
   "metadata": {},
   "outputs": [
    {
     "data": {
      "image/png": "[encoded data removed]",
      "text/plain": [
       "<Figure size 800x400 with 1 Axes>"
      ]
     },
     "metadata": {},
     "output_type": "display_data"
    }
   ],
   "source": [
    "# define boxplot\n",
    "fig, ax = plt.subplots(figsize=(8,4))\n",
    "ax.boxplot(dataset[[\"LSTM-MAPE\", \"GRU-MAPE\"]], labels=['LSTM', 'GRU'], patch_artist=True, widths=(0.5, 0.5))\n",
    "\n",
    "# set labels\n",
    "ax.set_title('Perbandingan MAPE Model LSTM dan GRU')\n",
    "ax.set_xlabel('')\n",
    "ax.set_ylabel('')\n",
    "ax.grid(True)\n",
    "\n",
    "# show boxplot\n",
    "plt.show()"
   ]
  },
  {
   "cell_type": "markdown",
   "metadata": {},
   "source": [
    "### Hypothesis Test of Non-parametric"
   ]
  },
  {
   "cell_type": "markdown",
   "metadata": {},
   "source": [
    "- Normalize Min-Max Scaler"
   ]
  },
  {
   "cell_type": "code",
   "execution_count": 4,
   "metadata": {},
   "outputs": [],
   "source": [
    "# min-max scaler\n",
    "scaler = MinMaxScaler(feature_range=(0,1))\n",
    "\n",
    "# process min-max \n",
    "LSTM_MAPE = scaler.fit_transform(np.array(dataset[\"LSTM-MAPE\"]).reshape(-1,1))\n",
    "GRU_MAPE = scaler.fit_transform(np.array(dataset[\"GRU-MAPE\"]).reshape(-1,1))"
   ]
  },
  {
   "cell_type": "markdown",
   "metadata": {},
   "source": [
    "- Normality Test with Shapiro-Wilk"
   ]
  },
  {
   "cell_type": "code",
   "execution_count": 5,
   "metadata": {},
   "outputs": [],
   "source": [
    "# Hipotesa Awal\n",
    "# H0 = Nilai R dan MAPE terdistribusi normal\n",
    "# H2 = Nilai R dan MAPE TIDAK terdistribusi normal\n",
    "\n",
    "# Interpretasi hasil:\n",
    "# - p-value > 0.05: Data berdistribusi normal\n",
    "# - p-value <= 0.05: Data tidak berdistribusi normal"
   ]
  },
  {
   "cell_type": "code",
   "execution_count": 6,
   "metadata": {},
   "outputs": [
    {
     "name": "stdout",
     "output_type": "stream",
     "text": [
      "Data tidak terdistribusi normal\n",
      "GRU-MAPE  : 0.11\n",
      "LSTM-MAPE : 0.53\n"
     ]
    }
   ],
   "source": [
    "print(\"Data tidak terdistribusi normal\")\n",
    "print(\"GRU-MAPE  :\",np.round(sc.shapiro(GRU_MAPE).pvalue,2))\n",
    "print(\"LSTM-MAPE :\",np.round(sc.shapiro(LSTM_MAPE).pvalue,2))"
   ]
  },
  {
   "cell_type": "markdown",
   "metadata": {},
   "source": [
    "- Mann-Whitney Test"
   ]
  },
  {
   "cell_type": "code",
   "execution_count": 7,
   "metadata": {},
   "outputs": [],
   "source": [
    "# Hipotesa Awal\n",
    "# H0 = Maetode GRU lebih baik dari Metode LSTM\n",
    "# H1 = Maetode GRU TIDAK lebih baik dari Metode LSTM\n",
    "\n",
    "# Interpretasi hasil:\n",
    "# p-value < 0.05 = Terima H0\n",
    "# p-value > 0.05 = Terima H1"
   ]
  },
  {
   "cell_type": "code",
   "execution_count": 8,
   "metadata": {},
   "outputs": [
    {
     "name": "stdout",
     "output_type": "stream",
     "text": [
      "Karena p-value: [0.427] maka Terima H1\n"
     ]
    }
   ],
   "source": [
    "# Mann-Whitney Test\n",
    "MAPE = np.round(sc.mannwhitneyu(LSTM_MAPE, GRU_MAPE).pvalue,4)\n",
    "\n",
    "# Intrepetasi hasil\n",
    "if MAPE < 0.05:\n",
    "  print(\"Karena p-value:\",MAPE,\"maka Terima H0\")\n",
    "else :\n",
    "  print(\"Karena p-value:\",MAPE,\"maka Terima H1\")"
   ]
  },
  {
   "cell_type": "markdown",
   "metadata": {},
   "source": [
    "- Wilcoxon Rank Test"
   ]
  },
  {
   "cell_type": "code",
   "execution_count": 9,
   "metadata": {},
   "outputs": [
    {
     "name": "stdout",
     "output_type": "stream",
     "text": [
      "Karena p-value: [0.3139] maka Terima H1\n"
     ]
    }
   ],
   "source": [
    "# Wilcoxon Rank Test\n",
    "MAPE = np.round(sc.wilcoxon(LSTM_MAPE, GRU_MAPE).pvalue,4)\n",
    "\n",
    "# Intrepetasi hasil\n",
    "if MAPE < 0.05:\n",
    "  print(\"Karena p-value:\",MAPE,\"maka Terima H0\")\n",
    "else :\n",
    "  print(\"Karena p-value:\",MAPE,\"maka Terima H1\")"
   ]
  },
  {
   "cell_type": "markdown",
   "metadata": {},
   "source": [
    "- Kruskal-Wallis Test"
   ]
  },
  {
   "cell_type": "code",
   "execution_count": 10,
   "metadata": {},
   "outputs": [
    {
     "name": "stdout",
     "output_type": "stream",
     "text": [
      "Karena p-value: [0.4053] maka Terima H1\n"
     ]
    }
   ],
   "source": [
    "# Kruskal-Wallis Test\n",
    "MAPE = np.round(sc.kruskal(LSTM_MAPE, GRU_MAPE).pvalue,4)\n",
    "\n",
    "# Intrepetasi hasil\n",
    "if MAPE < 0.05:\n",
    "  print(\"Karena p-value:\",MAPE,\"maka Terima H0\")\n",
    "else :\n",
    "  print(\"Karena p-value:\",MAPE,\"maka Terima H1\")"
   ]
  },
  {
   "cell_type": "code",
   "execution_count": null,
   "metadata": {},
   "outputs": [],
   "source": []
  },
  {
   "cell_type": "code",
   "execution_count": null,
   "metadata": {},
   "outputs": [],
   "source": []
  }
 ],
 "metadata": {
  "kernelspec": {
   "display_name": "base",
   "language": "python",
   "name": "python3"
  },
  "language_info": {
   "codemirror_mode": {
    "name": "ipython",
    "version": 3
   },
   "file_extension": ".py",
   "mimetype": "text/x-python",
   "name": "python",
   "nbconvert_exporter": "python",
   "pygments_lexer": "ipython3",
   "version": "3.11.9"
  }
 },
 "nbformat": 4,
 "nbformat_minor": 2
}
