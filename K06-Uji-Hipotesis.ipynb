{
 "cells": [
  {
   "cell_type": "markdown",
   "metadata": {},
   "source": [
    "## Uji Hipotesis - Model Prediksi BTC-USD "
   ]
  },
  {
   "cell_type": "code",
   "execution_count": 1,
   "metadata": {},
   "outputs": [],
   "source": [
    "# lib statistic \n",
    "import scipy.stats as sc\n",
    "\n",
    "# lib manipulation dataset\n",
    "import pandas as pd\n",
    "import numpy as np\n",
    "\n",
    "# lib data visualization\n",
    "import seaborn as sns\n",
    "import matplotlib.pyplot as plt\n",
    "\n",
    "# lib min-max scaler\n",
    "from sklearn.preprocessing import MinMaxScaler"
   ]
  },
  {
   "cell_type": "code",
   "execution_count": 2,
   "metadata": {},
   "outputs": [
    {
     "data": {
      "text/html": [
       "<div>\n",
       "<style scoped>\n",
       "    .dataframe tbody tr th:only-of-type {\n",
       "        vertical-align: middle;\n",
       "    }\n",
       "\n",
       "    .dataframe tbody tr th {\n",
       "        vertical-align: top;\n",
       "    }\n",
       "\n",
       "    .dataframe thead th {\n",
       "        text-align: right;\n",
       "    }\n",
       "</style>\n",
       "<table border=\"1\" class=\"dataframe\">\n",
       "  <thead>\n",
       "    <tr style=\"text-align: right;\">\n",
       "      <th></th>\n",
       "      <th>LSTM-R</th>\n",
       "      <th>LSTM-MAE</th>\n",
       "      <th>LSTM-RMSE</th>\n",
       "      <th>LSTM-MAPE</th>\n",
       "      <th>LSTM-TIME</th>\n",
       "      <th>GRU-R</th>\n",
       "      <th>GRU-MAE</th>\n",
       "      <th>GRU-RMSE</th>\n",
       "      <th>GRU-MAPE</th>\n",
       "      <th>GRU-TIME</th>\n",
       "    </tr>\n",
       "  </thead>\n",
       "  <tbody>\n",
       "    <tr>\n",
       "      <th>0</th>\n",
       "      <td>0.996</td>\n",
       "      <td>1082.83</td>\n",
       "      <td>1535.47</td>\n",
       "      <td>0.035</td>\n",
       "      <td>221.26</td>\n",
       "      <td>0.997</td>\n",
       "      <td>1314.78</td>\n",
       "      <td>2031.56</td>\n",
       "      <td>0.035</td>\n",
       "      <td>187.99</td>\n",
       "    </tr>\n",
       "    <tr>\n",
       "      <th>1</th>\n",
       "      <td>0.996</td>\n",
       "      <td>1091.48</td>\n",
       "      <td>1491.92</td>\n",
       "      <td>0.036</td>\n",
       "      <td>210.97</td>\n",
       "      <td>0.998</td>\n",
       "      <td>776.01</td>\n",
       "      <td>1171.66</td>\n",
       "      <td>0.023</td>\n",
       "      <td>190.84</td>\n",
       "    </tr>\n",
       "    <tr>\n",
       "      <th>2</th>\n",
       "      <td>0.996</td>\n",
       "      <td>1306.03</td>\n",
       "      <td>1594.93</td>\n",
       "      <td>0.047</td>\n",
       "      <td>215.56</td>\n",
       "      <td>0.998</td>\n",
       "      <td>1055.42</td>\n",
       "      <td>1534.85</td>\n",
       "      <td>0.030</td>\n",
       "      <td>186.80</td>\n",
       "    </tr>\n",
       "    <tr>\n",
       "      <th>3</th>\n",
       "      <td>0.996</td>\n",
       "      <td>1253.72</td>\n",
       "      <td>1644.21</td>\n",
       "      <td>0.043</td>\n",
       "      <td>207.76</td>\n",
       "      <td>0.997</td>\n",
       "      <td>683.48</td>\n",
       "      <td>1053.63</td>\n",
       "      <td>0.022</td>\n",
       "      <td>183.21</td>\n",
       "    </tr>\n",
       "    <tr>\n",
       "      <th>4</th>\n",
       "      <td>0.997</td>\n",
       "      <td>909.17</td>\n",
       "      <td>1456.14</td>\n",
       "      <td>0.026</td>\n",
       "      <td>217.82</td>\n",
       "      <td>0.998</td>\n",
       "      <td>729.81</td>\n",
       "      <td>1151.63</td>\n",
       "      <td>0.021</td>\n",
       "      <td>189.79</td>\n",
       "    </tr>\n",
       "  </tbody>\n",
       "</table>\n",
       "</div>"
      ],
      "text/plain": [
       "   LSTM-R  LSTM-MAE  LSTM-RMSE  LSTM-MAPE  LSTM-TIME  GRU-R  GRU-MAE  \\\n",
       "0   0.996   1082.83    1535.47      0.035     221.26  0.997  1314.78   \n",
       "1   0.996   1091.48    1491.92      0.036     210.97  0.998   776.01   \n",
       "2   0.996   1306.03    1594.93      0.047     215.56  0.998  1055.42   \n",
       "3   0.996   1253.72    1644.21      0.043     207.76  0.997   683.48   \n",
       "4   0.997    909.17    1456.14      0.026     217.82  0.998   729.81   \n",
       "\n",
       "   GRU-RMSE  GRU-MAPE  GRU-TIME  \n",
       "0   2031.56     0.035    187.99  \n",
       "1   1171.66     0.023    190.84  \n",
       "2   1534.85     0.030    186.80  \n",
       "3   1053.63     0.022    183.21  \n",
       "4   1151.63     0.021    189.79  "
      ]
     },
     "execution_count": 2,
     "metadata": {},
     "output_type": "execute_result"
    }
   ],
   "source": [
    "# load dataset\n",
    "dataset = pd.read_excel(\"dataset/hasil_penelitian.xlsx\", sheet_name=\"hasil evaluasi windows\")\n",
    "np.round(dataset[:5],3)"
   ]
  },
  {
   "cell_type": "markdown",
   "metadata": {},
   "source": [
    "### Hypothesis Test of Non-parametric"
   ]
  },
  {
   "cell_type": "code",
   "execution_count": 3,
   "metadata": {},
   "outputs": [],
   "source": [
    "def boxplot(dataset, title):\n",
    "\n",
    "  # create boxplot\n",
    "  fig, ax = plt.subplots(figsize=(8,4))\n",
    "  sns.boxplot(data=dataset)\n",
    "\n",
    "  # set labels\n",
    "  ax.set_title(title)\n",
    "  ax.set_xlabel('')\n",
    "  ax.set_ylabel('')\n",
    "  ax.grid(True)\n",
    "\n",
    "  # show boxplot\n",
    "  plt.show()"
   ]
  },
  {
   "cell_type": "code",
   "execution_count": 4,
   "metadata": {},
   "outputs": [],
   "source": [
    "# Hipotesa Awal\n",
    "# H0 = Nilai R dan MAPE terdistribusi normal\n",
    "# H2 = Nilai R dan MAPE TIDAK terdistribusi normal\n",
    "\n",
    "# Interpretasi hasil:\n",
    "# - p-value > 0.05: Data berdistribusi normal\n",
    "# - p-value <= 0.05: Data tidak berdistribusi normal\n",
    "\n",
    "# func normality test\n",
    "def normality(lstm, gru):\n",
    "\n",
    "  print(\"Hasil Uji-Normalitas\")\n",
    "  print(\"p-value shapiro wilk:\",np.round(sc.shapiro(lstm).pvalue,2),\"(untuk LSTM)\")\n",
    "  print(\"p-value shapiro wilk:\",np.round(sc.shapiro(gru).pvalue,2),\"(untuk GRU)\")"
   ]
  },
  {
   "cell_type": "code",
   "execution_count": 5,
   "metadata": {},
   "outputs": [],
   "source": [
    "# Hipotesa Awal\n",
    "# H0 = Maetode GRU lebih baik dari Metode LSTM\n",
    "# H1 = Maetode GRU TIDAK lebih baik dari Metode LSTM\n",
    "\n",
    "# Interpretasi hasil:\n",
    "# p-value < 0.05 = Terima H0\n",
    "# p-value > 0.05 = Terima H1\n",
    "\n",
    "# func hypothesis test\n",
    "def hypothesis(lstm, gru):\n",
    "  \n",
    "  # Mann-Whitney Test\n",
    "  Mann_Whitney = np.round(sc.mannwhitneyu(lstm, gru).pvalue,4)\n",
    "\n",
    "  # Intrepetasi hasil\n",
    "  print(\"Mann_Whitney\")\n",
    "  if Mann_Whitney < 0.05:\n",
    "    print(\"Karena p-value:\",Mann_Whitney,\"maka Terima H0\")\n",
    "  else :\n",
    "    print(\"Karena p-value:\",Mann_Whitney,\"maka Terima H1\")\n",
    "  print(\"\")\n",
    "  # --------------------------------------------------------------\n",
    "  \n",
    "  # Wilcoxon Rank Test\n",
    "  Wilcoxon = np.round(sc.wilcoxon(lstm, gru).pvalue,4)\n",
    "\n",
    "  # Intrepetasi hasil\n",
    "  print(\"Wilcoxon Rank Test\")\n",
    "  if Wilcoxon < 0.05:\n",
    "    print(\"Karena p-value:\",Wilcoxon,\"maka Terima H0\")\n",
    "  else :\n",
    "    print(\"Karena p-value:\",Wilcoxon,\"maka Terima H1\")\n",
    "  print(\"\")\n",
    "  # --------------------------------------------------------------\n",
    "\n",
    "  # Kruskal-Wallis Test\n",
    "  Kruskal_Wallis = np.round(sc.kruskal(lstm, gru).pvalue,4)\n",
    "\n",
    "  # Intrepetasi hasil\n",
    "  print(\"Kruskal-Wallis Test\")\n",
    "  if Kruskal_Wallis < 0.05:\n",
    "    print(\"Karena p-value:\",Kruskal_Wallis,\"maka Terima H0\")\n",
    "  else :\n",
    "    print(\"Karena p-value:\",Kruskal_Wallis,\"maka Terima H1\")\n",
    "  print(\"\")\n",
    "  # --------------------------------------------------------------"
   ]
  },
  {
   "cell_type": "markdown",
   "metadata": {},
   "source": [
    "### Hypothesis Test for MAPE Values"
   ]
  },
  {
   "cell_type": "code",
   "execution_count": 6,
   "metadata": {},
   "outputs": [
    {
     "data": {
      "image/png": "[encoded data removed]",
      "text/plain": [
       "<Figure size 800x400 with 1 Axes>"
      ]
     },
     "metadata": {},
     "output_type": "display_data"
    }
   ],
   "source": [
    "boxplot(dataset[[\"LSTM-MAPE\", \"GRU-MAPE\"]], \"Perbandingan MAPE Model LSTM dan GRU\")"
   ]
  },
  {
   "cell_type": "code",
   "execution_count": 7,
   "metadata": {},
   "outputs": [
    {
     "name": "stdout",
     "output_type": "stream",
     "text": [
      "Hasil Uji-Normalitas\n",
      "p-value shapiro wilk: 0.53 (untuk LSTM)\n",
      "p-value shapiro wilk: 0.11 (untuk GRU)\n"
     ]
    }
   ],
   "source": [
    "normality(dataset[\"LSTM-MAPE\"], dataset[\"GRU-MAPE\"])"
   ]
  },
  {
   "cell_type": "code",
   "execution_count": 8,
   "metadata": {},
   "outputs": [
    {
     "name": "stdout",
     "output_type": "stream",
     "text": [
      "Mann_Whitney\n",
      "Karena p-value: 0.0046 maka Terima H0\n",
      "\n",
      "Wilcoxon Rank Test\n",
      "Karena p-value: 0.0039 maka Terima H0\n",
      "\n",
      "Kruskal-Wallis Test\n",
      "Karena p-value: 0.0041 maka Terima H0\n",
      "\n"
     ]
    }
   ],
   "source": [
    "hypothesis(dataset[\"LSTM-MAPE\"], dataset[\"GRU-MAPE\"])"
   ]
  },
  {
   "cell_type": "markdown",
   "metadata": {},
   "source": [
    "### Hypothesis Test for Time Values"
   ]
  },
  {
   "cell_type": "code",
   "execution_count": 9,
   "metadata": {},
   "outputs": [
    {
     "data": {
      "image/png": "[encoded data removed]",
      "text/plain": [
       "<Figure size 800x400 with 1 Axes>"
      ]
     },
     "metadata": {},
     "output_type": "display_data"
    }
   ],
   "source": [
    "boxplot(dataset[[\"LSTM-TIME\", \"GRU-TIME\"]], \"Perbandingan TIME Model LSTM dan GRU\")"
   ]
  },
  {
   "cell_type": "code",
   "execution_count": 10,
   "metadata": {},
   "outputs": [
    {
     "name": "stdout",
     "output_type": "stream",
     "text": [
      "Hasil Uji-Normalitas\n",
      "p-value shapiro wilk: 0.71 (untuk LSTM)\n",
      "p-value shapiro wilk: 0.24 (untuk GRU)\n"
     ]
    }
   ],
   "source": [
    "normality(dataset[\"LSTM-TIME\"], dataset[\"GRU-TIME\"])"
   ]
  },
  {
   "cell_type": "code",
   "execution_count": 11,
   "metadata": {},
   "outputs": [
    {
     "name": "stdout",
     "output_type": "stream",
     "text": [
      "Mann_Whitney\n",
      "Karena p-value: 0.0002 maka Terima H0\n",
      "\n",
      "Wilcoxon Rank Test\n",
      "Karena p-value: 0.002 maka Terima H0\n",
      "\n",
      "Kruskal-Wallis Test\n",
      "Karena p-value: 0.0002 maka Terima H0\n",
      "\n"
     ]
    }
   ],
   "source": [
    "hypothesis(dataset[\"LSTM-TIME\"], dataset[\"GRU-TIME\"])"
   ]
  },
  {
   "cell_type": "code",
   "execution_count": null,
   "metadata": {},
   "outputs": [],
   "source": []
  }
 ],
 "metadata": {
  "kernelspec": {
   "display_name": "py310",
   "language": "python",
   "name": "python3"
  },
  "language_info": {
   "codemirror_mode": {
    "name": "ipython",
    "version": 3
   },
   "file_extension": ".py",
   "mimetype": "text/x-python",
   "name": "python",
   "nbconvert_exporter": "python",
   "pygments_lexer": "ipython3",
   "version": "3.11.9"
  }
 },
 "nbformat": 4,
 "nbformat_minor": 2
}
