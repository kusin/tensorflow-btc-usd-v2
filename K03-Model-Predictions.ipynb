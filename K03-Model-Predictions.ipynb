{
 "cells": [
  {
   "cell_type": "markdown",
   "metadata": {},
   "source": [
    "## Predictions of BTC-USD Price Using SBi-LSTM and SBi-GRU"
   ]
  },
  {
   "cell_type": "code",
   "execution_count": null,
   "metadata": {},
   "outputs": [],
   "source": [
    "# load all functions\n",
    "from C01_data_collection import *\n",
    "from C02_visualization import * \n",
    "from C03_preprocessing import *\n",
    "from C04_model_predictions import *"
   ]
  },
  {
   "cell_type": "markdown",
   "metadata": {},
   "source": [
    "- config models"
   ]
  },
  {
   "cell_type": "code",
   "execution_count": null,
   "metadata": {},
   "outputs": [],
   "source": [
    "# set random number\n",
    "import random as rm\n",
    "rm.seed(1234)\n",
    "\n",
    "# set random number\n",
    "import numpy as np\n",
    "np.random.seed(1234)\n",
    "\n",
    "# set random number\n",
    "import tensorflow as tf\n",
    "tf.random.set_seed(1234)"
   ]
  },
  {
   "cell_type": "code",
   "execution_count": null,
   "metadata": {},
   "outputs": [],
   "source": [
    "# set algorithms\n",
    "# algorithms = \"SBi-LSTM\"   # fill the value by SBi-LSTM or SBi-GRU\n",
    "algorithms = \"SBi-GRU\"   # fill the value by SBi-LSTM or SBi-GRU"
   ]
  },
  {
   "cell_type": "markdown",
   "metadata": {},
   "source": [
    "### 1. Data Collections"
   ]
  },
  {
   "cell_type": "code",
   "execution_count": null,
   "metadata": {},
   "outputs": [],
   "source": [
    "# load dataset\n",
    "dataset = data_collection(\"BTC-USD.csv\")\n",
    "dataset.info()"
   ]
  },
  {
   "cell_type": "code",
   "execution_count": null,
   "metadata": {},
   "outputs": [],
   "source": [
    "# show dataset\n",
    "print(dataset.tail())"
   ]
  },
  {
   "cell_type": "markdown",
   "metadata": {},
   "source": [
    "### 2. Exploration Data Analysis"
   ]
  },
  {
   "cell_type": "code",
   "execution_count": null,
   "metadata": {},
   "outputs": [],
   "source": [
    "timeseries_matplotlib(dataset, [\"Open\", \"High\", \"Low\", \"Close\"])"
   ]
  },
  {
   "cell_type": "markdown",
   "metadata": {},
   "source": [
    "### 3. Data Preprocessing"
   ]
  },
  {
   "cell_type": "code",
   "execution_count": null,
   "metadata": {},
   "outputs": [],
   "source": [
    "# call func preprocessing\n",
    "scaler, scaled, x_train, y_train, x_test, y_test = preprocessing(dataset)"
   ]
  },
  {
   "cell_type": "code",
   "execution_count": null,
   "metadata": {},
   "outputs": [],
   "source": [
    "lineplot_matplotlib1(y_test, \"Close Price\")"
   ]
  },
  {
   "cell_type": "markdown",
   "metadata": {},
   "source": [
    "### 4 Model Predictions"
   ]
  },
  {
   "cell_type": "markdown",
   "metadata": {},
   "source": [
    "- training models"
   ]
  },
  {
   "cell_type": "code",
   "execution_count": null,
   "metadata": {},
   "outputs": [],
   "source": [
    "history, predictions = get_models(algorithms, x_train, y_train, x_test, y_test)"
   ]
  },
  {
   "cell_type": "markdown",
   "metadata": {},
   "source": [
    "- loss function"
   ]
  },
  {
   "cell_type": "code",
   "execution_count": null,
   "metadata": {},
   "outputs": [],
   "source": [
    "# show loss function\n",
    "lineplot_matplotlib1(history.history['loss'], \"loss func\")"
   ]
  },
  {
   "cell_type": "markdown",
   "metadata": {},
   "source": [
    "- results predictions"
   ]
  },
  {
   "cell_type": "code",
   "execution_count": null,
   "metadata": {},
   "outputs": [],
   "source": [
    "# show predictions\n",
    "lineplot_matplotlib2(\n",
    "  line1=y_test, label1=\"actual data\",\n",
    "  line2=predictions, label2=\"results predictions\"\n",
    ")"
   ]
  },
  {
   "cell_type": "code",
   "execution_count": null,
   "metadata": {},
   "outputs": [],
   "source": [
    "# calculate eror\n",
    "r, p_value, mae, rmse, mape = evaluate_models(y_test, predictions)\n",
    "\n",
    "# show eror\n",
    "print(\"Evaluate Models with : \"+str(algorithms))\n",
    "print(\"-------------------------------\")\n",
    "print(\"R       : \"+str(r))\n",
    "print(\"P-value : \"+str(p_value))\n",
    "print(\"MAE     : \"+str(mae))\n",
    "print(\"RMSE    : \"+str(rmse))\n",
    "print(\"MAPE    : \"+str(mape))"
   ]
  },
  {
   "cell_type": "markdown",
   "metadata": {},
   "source": [
    "- inverse predictions"
   ]
  },
  {
   "cell_type": "code",
   "execution_count": null,
   "metadata": {},
   "outputs": [],
   "source": [
    "# inverse scaler predictions\n",
    "inv_y_test = scaler.inverse_transform(y_test.reshape(-1,1))\n",
    "inv_predictions = scaler.inverse_transform(predictions.reshape(-1,1))\n",
    "\n",
    "# show predictions\n",
    "lineplot_matplotlib2(\n",
    "  line1=inv_y_test, label1=\"actual data\",\n",
    "  line2=inv_predictions, label2=\"results predictions\"\n",
    ")"
   ]
  },
  {
   "cell_type": "code",
   "execution_count": null,
   "metadata": {},
   "outputs": [],
   "source": [
    "# calculate eror\n",
    "r, p_value, mae, rmse, mape = evaluate_models(inv_y_test, inv_predictions)\n",
    "\n",
    "# show eror\n",
    "print(\"Evaluate Models with : \"+str(algorithms))\n",
    "print(\"-------------------------------\")\n",
    "print(\"R       : \"+str(r))\n",
    "print(\"P-value : \"+str(p_value))\n",
    "print(\"MAE     : \"+str(mae))\n",
    "print(\"RMSE    : \"+str(rmse))\n",
    "print(\"MAPE    : \"+str(mape))"
   ]
  },
  {
   "cell_type": "markdown",
   "metadata": {},
   "source": [
    "- Final Results Prediction"
   ]
  },
  {
   "cell_type": "code",
   "execution_count": null,
   "metadata": {},
   "outputs": [],
   "source": [
    "fig, ax = plt.subplots(figsize = (8,4))\n",
    "ax.plot(dataset[\"Date\"].iloc[len(y_train)+120:].values, inv_y_test, color=\"tab:blue\", label=\"actual data\", linewidth=2)\n",
    "ax.plot(dataset[\"Date\"].iloc[len(y_train)+120:].values, inv_predictions, color=\"tab:red\", label=\"results predictions\", linewidth=2)\n",
    "\n",
    "# set label-labels\n",
    "ax.xaxis.set_major_formatter(DateFormatter(\"%Y\"))\n",
    "ax.set_title(\"Results of Predictions BTC-USD with \"+algorithms, fontsize=12)\n",
    "ax.set_xlabel(\"\", fontsize=10)\n",
    "ax.set_ylabel(\"\", fontsize=10)\n",
    "ax.legend(loc=\"best\")\n",
    "ax.grid(True)\n",
    "\n",
    "# show lineplot\n",
    "plt.show()"
   ]
  },
  {
   "cell_type": "code",
   "execution_count": null,
   "metadata": {},
   "outputs": [],
   "source": []
  }
 ],
 "metadata": {
  "kernelspec": {
   "display_name": "base",
   "language": "python",
   "name": "python3"
  },
  "language_info": {
   "codemirror_mode": {
    "name": "ipython",
    "version": 3
   },
   "file_extension": ".py",
   "mimetype": "text/x-python",
   "name": "python",
   "nbconvert_exporter": "python",
   "pygments_lexer": "ipython3",
   "version": "3.10.14"
  }
 },
 "nbformat": 4,
 "nbformat_minor": 2
}
