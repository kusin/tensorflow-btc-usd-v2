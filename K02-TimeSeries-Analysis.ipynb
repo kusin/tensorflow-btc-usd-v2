{
 "cells": [
  {
   "cell_type": "code",
   "execution_count": 1,
   "metadata": {},
   "outputs": [],
   "source": [
    "# lib manipulasi data\n",
    "import pandas as pd\n",
    "import numpy as np\n",
    "\n",
    "# pustaka uji stasioneritas arch\n",
    "from arch.unitroot import *\n",
    "from arch.unitroot import ADF\n",
    "from arch.unitroot import PhillipsPerron\n",
    "from arch.unitroot import KPSS"
   ]
  },
  {
   "cell_type": "code",
   "execution_count": 2,
   "metadata": {},
   "outputs": [],
   "source": [
    "# load csv\n",
    "dataset = pd.read_csv(\"dataset/BTC-USD-norm.csv\", parse_dates=[\"Date\"])"
   ]
  },
  {
   "cell_type": "code",
   "execution_count": 3,
   "metadata": {},
   "outputs": [
    {
     "name": "stdout",
     "output_type": "stream",
     "text": [
      "<class 'pandas.core.frame.DataFrame'>\n",
      "RangeIndex: 3408 entries, 0 to 3407\n",
      "Data columns (total 5 columns):\n",
      " #   Column  Non-Null Count  Dtype         \n",
      "---  ------  --------------  -----         \n",
      " 0   Date    3408 non-null   datetime64[ns]\n",
      " 1   Open    3408 non-null   float64       \n",
      " 2   High    3408 non-null   float64       \n",
      " 3   Low     3408 non-null   float64       \n",
      " 4   Close   3408 non-null   float64       \n",
      "dtypes: datetime64[ns](1), float64(4)\n",
      "memory usage: 133.2 KB\n",
      "None\n"
     ]
    }
   ],
   "source": [
    "# show metadata\n",
    "print(dataset.info())"
   ]
  },
  {
   "cell_type": "markdown",
   "metadata": {},
   "source": [
    "- Cek Stasioneritas Data"
   ]
  },
  {
   "cell_type": "code",
   "execution_count": 4,
   "metadata": {},
   "outputs": [
    {
     "name": "stdout",
     "output_type": "stream",
     "text": [
      "   Augmented Dickey-Fuller Results   \n",
      "=====================================\n",
      "Test Statistic                 -2.783\n",
      "P-value                         0.203\n",
      "Lags                               60\n",
      "-------------------------------------\n",
      "\n",
      "Trend: Constant and Linear Time Trend\n",
      "Critical Values: -3.96 (1%), -3.41 (5%), -3.13 (10%)\n",
      "Null Hypothesis: The process contains a unit root.\n",
      "Alternative Hypothesis: The process is weakly stationary.\n"
     ]
    }
   ],
   "source": [
    "adf = ADF(y=dataset[\"Close\"], lags=60, trend=\"ct\")\n",
    "print(adf.summary().as_text())"
   ]
  },
  {
   "cell_type": "code",
   "execution_count": 5,
   "metadata": {},
   "outputs": [
    {
     "name": "stdout",
     "output_type": "stream",
     "text": [
      "     Phillips-Perron Test (Z-tau)    \n",
      "=====================================\n",
      "Test Statistic                 -2.371\n",
      "P-value                         0.395\n",
      "Lags                               60\n",
      "-------------------------------------\n",
      "\n",
      "Trend: Constant and Linear Time Trend\n",
      "Critical Values: -3.96 (1%), -3.41 (5%), -3.13 (10%)\n",
      "Null Hypothesis: The process contains a unit root.\n",
      "Alternative Hypothesis: The process is weakly stationary.\n"
     ]
    }
   ],
   "source": [
    "pp = PhillipsPerron(y=dataset[\"Close\"], lags=60, trend=\"ct\")\n",
    "print(pp.summary().as_text())"
   ]
  },
  {
   "cell_type": "code",
   "execution_count": 6,
   "metadata": {},
   "outputs": [
    {
     "name": "stdout",
     "output_type": "stream",
     "text": [
      "    KPSS Stationarity Test Results   \n",
      "=====================================\n",
      "Test Statistic                  0.241\n",
      "P-value                         0.006\n",
      "Lags                               60\n",
      "-------------------------------------\n",
      "\n",
      "Trend: Constant and Linear Time Trend\n",
      "Critical Values: 0.22 (1%), 0.15 (5%), 0.12 (10%)\n",
      "Null Hypothesis: The process is weakly stationary.\n",
      "Alternative Hypothesis: The process contains a unit root.\n"
     ]
    }
   ],
   "source": [
    "kpss = KPSS(y=dataset[\"Close\"], lags=60, trend=\"ct\")\n",
    "print(kpss.summary().as_text())"
   ]
  },
  {
   "cell_type": "markdown",
   "metadata": {},
   "source": [
    "- Cek autokorelasi data"
   ]
  },
  {
   "cell_type": "code",
   "execution_count": 7,
   "metadata": {},
   "outputs": [],
   "source": [
    "# lib analysis statistic\n",
    "import statsmodels.api as sm\n",
    "import statsmodels.stats.stattools as tsa\n",
    "\n",
    "# lib data preprocessing\n",
    "from sklearn.preprocessing import MinMaxScaler\n",
    "from sklearn.model_selection import train_test_split"
   ]
  },
  {
   "cell_type": "code",
   "execution_count": 8,
   "metadata": {},
   "outputs": [],
   "source": [
    "# split data train and test\n",
    "train_data, test_data = train_test_split(dataset[\"Close\"], train_size=0.80, test_size=0.20, shuffle=False)"
   ]
  },
  {
   "cell_type": "code",
   "execution_count": 9,
   "metadata": {},
   "outputs": [],
   "source": [
    "# function for supervised learning\n",
    "def create_dataset(look_back, dataset):\n",
    "    \n",
    "    # declare variable X and Y\n",
    "    dataX = []\n",
    "    dataY = []\n",
    "    \n",
    "    # for loop for create supervised learning\n",
    "    for i in range(look_back, len(dataset)):\n",
    "        dataX.append(dataset[i-look_back:i, 0])\n",
    "        dataY.append(dataset[i, 0])\n",
    "        \n",
    "    # return value X and Y\n",
    "    return np.array(dataX), np.array(dataY)"
   ]
  },
  {
   "cell_type": "code",
   "execution_count": 10,
   "metadata": {},
   "outputs": [],
   "source": [
    "# 4. supervised learning\n",
    "x_train, y_train = create_dataset(60, np.array(train_data).reshape(-1,1))\n",
    "x_test, y_test = create_dataset(60, np.array(test_data).reshape(-1,1))"
   ]
  },
  {
   "cell_type": "code",
   "execution_count": 11,
   "metadata": {},
   "outputs": [],
   "source": [
    "# results preprocessing of normalize data\n",
    "data = pd.concat([\n",
    "  pd.DataFrame(x_test),\n",
    "  pd.DataFrame(y_test, columns=[\"Y\"])\n",
    "], axis=1)"
   ]
  },
  {
   "cell_type": "code",
   "execution_count": 12,
   "metadata": {},
   "outputs": [],
   "source": [
    "# set x and y\n",
    "x = np.array(data.drop([\"Y\"], axis=1))\n",
    "y = np.array(data[\"Y\"])"
   ]
  },
  {
   "cell_type": "code",
   "execution_count": 13,
   "metadata": {},
   "outputs": [
    {
     "name": "stdout",
     "output_type": "stream",
     "text": [
      "                                 OLS Regression Results                                \n",
      "=======================================================================================\n",
      "Dep. Variable:                      y   R-squared (uncentered):                   0.999\n",
      "Model:                            OLS   Adj. R-squared (uncentered):              0.999\n",
      "Method:                 Least Squares   F-statistic:                          1.461e+04\n",
      "Date:                Wed, 21 Aug 2024   Prob (F-statistic):                        0.00\n",
      "Time:                        12:02:35   Log-Likelihood:                          1861.0\n",
      "No. Observations:                 622   AIC:                                     -3602.\n",
      "Df Residuals:                     562   BIC:                                     -3336.\n",
      "Df Model:                          60                                                  \n",
      "Covariance Type:            nonrobust                                                  \n",
      "==============================================================================\n",
      "                 coef    std err          t      P>|t|      [0.025      0.975]\n",
      "------------------------------------------------------------------------------\n",
      "x1             0.0334      0.056      0.595      0.552      -0.077       0.143\n",
      "x2            -0.0720      0.079     -0.909      0.364      -0.228       0.084\n",
      "x3             0.0798      0.079      1.015      0.311      -0.075       0.234\n",
      "x4            -0.1062      0.074     -1.442      0.150      -0.251       0.038\n",
      "x5             0.1033      0.072      1.429      0.154      -0.039       0.245\n",
      "x6            -0.0946      0.072     -1.307      0.192      -0.237       0.048\n",
      "x7             0.0870      0.072      1.202      0.230      -0.055       0.229\n",
      "x8            -0.0057      0.072     -0.078      0.938      -0.148       0.136\n",
      "x9            -0.0458      0.072     -0.633      0.527      -0.188       0.096\n",
      "x10            0.0204      0.072      0.282      0.778      -0.122       0.162\n",
      "x11            0.1196      0.072      1.658      0.098      -0.022       0.261\n",
      "x12           -0.1033      0.072     -1.436      0.151      -0.244       0.038\n",
      "x13            0.0324      0.072      0.449      0.654      -0.109       0.174\n",
      "x14            0.0674      0.072      0.938      0.349      -0.074       0.209\n",
      "x15           -0.0134      0.072     -0.187      0.852      -0.155       0.128\n",
      "x16           -0.0034      0.070     -0.049      0.961      -0.140       0.133\n",
      "x17           -0.1995      0.069     -2.895      0.004      -0.335      -0.064\n",
      "x18            0.0861      0.068      1.260      0.208      -0.048       0.220\n",
      "x19            0.0595      0.065      0.912      0.362      -0.069       0.188\n",
      "x20           -0.0660      0.063     -1.040      0.299      -0.191       0.059\n",
      "x21            0.0271      0.064      0.424      0.672      -0.099       0.153\n",
      "x22           -0.0344      0.064     -0.540      0.589      -0.160       0.091\n",
      "x23            0.0488      0.063      0.775      0.439      -0.075       0.173\n",
      "x24            0.1096      0.063      1.744      0.082      -0.014       0.233\n",
      "x25           -0.0461      0.063     -0.736      0.462      -0.169       0.077\n",
      "x26           -0.0760      0.063     -1.211      0.227      -0.199       0.047\n",
      "x27           -0.0403      0.063     -0.641      0.521      -0.164       0.083\n",
      "x28            0.0237      0.063      0.378      0.706      -0.099       0.147\n",
      "x29            0.0521      0.063      0.832      0.406      -0.071       0.175\n",
      "x30           -0.0003      0.063     -0.005      0.996      -0.124       0.123\n",
      "x31           -0.0276      0.062     -0.441      0.659      -0.150       0.095\n",
      "x32           -0.0979      0.062     -1.568      0.118      -0.221       0.025\n",
      "x33           -0.0373      0.062     -0.598      0.550      -0.160       0.085\n",
      "x34            0.0955      0.062      1.550      0.122      -0.026       0.217\n",
      "x35           -0.1223      0.061     -2.003      0.046      -0.242      -0.002\n",
      "x36            0.1662      0.061      2.747      0.006       0.047       0.285\n",
      "x37            0.0341      0.060      0.563      0.574      -0.085       0.153\n",
      "x38           -0.0680      0.060     -1.127      0.260      -0.187       0.051\n",
      "x39           -0.0135      0.061     -0.222      0.824      -0.132       0.106\n",
      "x40            0.1650      0.060      2.733      0.006       0.046       0.284\n",
      "x41           -0.2265      0.060     -3.805      0.000      -0.343      -0.110\n",
      "x42            0.0562      0.060      0.944      0.346      -0.061       0.173\n",
      "x43           -0.0123      0.059     -0.206      0.837      -0.129       0.105\n",
      "x44            0.1129      0.059      1.921      0.055      -0.003       0.228\n",
      "x45           -0.0226      0.059     -0.384      0.701      -0.138       0.093\n",
      "x46           -0.1665      0.058     -2.875      0.004      -0.280      -0.053\n",
      "x47            0.1062      0.057      1.860      0.063      -0.006       0.218\n",
      "x48            0.0166      0.057      0.293      0.770      -0.095       0.128\n",
      "x49           -0.0404      0.057     -0.710      0.478      -0.152       0.071\n",
      "x50            0.0658      0.057      1.154      0.249      -0.046       0.178\n",
      "x51            0.0148      0.057      0.259      0.795      -0.097       0.127\n",
      "x52            0.0505      0.057      0.890      0.374      -0.061       0.162\n",
      "x53           -0.1449      0.056     -2.573      0.010      -0.256      -0.034\n",
      "x54            0.0877      0.056      1.563      0.119      -0.023       0.198\n",
      "x55           -0.0188      0.056     -0.335      0.737      -0.129       0.091\n",
      "x56           -0.0640      0.056     -1.140      0.255      -0.174       0.046\n",
      "x57           -0.0257      0.056     -0.457      0.648      -0.136       0.085\n",
      "x58            0.0496      0.056      0.882      0.378      -0.061       0.160\n",
      "x59            0.1695      0.056      3.046      0.002       0.060       0.279\n",
      "x60            0.8578      0.042     20.287      0.000       0.775       0.941\n",
      "==============================================================================\n",
      "Omnibus:                      103.787   Durbin-Watson:                   1.999\n",
      "Prob(Omnibus):                  0.000   Jarque-Bera (JB):              902.954\n",
      "Skew:                           0.434   Prob(JB):                    8.44e-197\n",
      "Kurtosis:                       8.839   Cond. No.                         794.\n",
      "==============================================================================\n",
      "\n",
      "Notes:\n",
      "[1] R² is computed without centering (uncentered) since the model does not contain a constant.\n",
      "[2] Standard Errors assume that the covariance matrix of the errors is correctly specified.\n"
     ]
    }
   ],
   "source": [
    "res = sm.OLS(y,x).fit()\n",
    "print(res.summary())"
   ]
  },
  {
   "cell_type": "code",
   "execution_count": 14,
   "metadata": {},
   "outputs": [
    {
     "data": {
      "text/plain": [
       "1.998572913134974"
      ]
     },
     "execution_count": 14,
     "metadata": {},
     "output_type": "execute_result"
    }
   ],
   "source": [
    "#perform Durbin-Watson test\n",
    "tsa.durbin_watson(res.resid)"
   ]
  },
  {
   "cell_type": "code",
   "execution_count": null,
   "metadata": {},
   "outputs": [],
   "source": []
  }
 ],
 "metadata": {
  "kernelspec": {
   "display_name": "base",
   "language": "python",
   "name": "python3"
  },
  "language_info": {
   "codemirror_mode": {
    "name": "ipython",
    "version": 3
   },
   "file_extension": ".py",
   "mimetype": "text/x-python",
   "name": "python",
   "nbconvert_exporter": "python",
   "pygments_lexer": "ipython3",
   "version": "3.10.14"
  }
 },
 "nbformat": 4,
 "nbformat_minor": 2
}
