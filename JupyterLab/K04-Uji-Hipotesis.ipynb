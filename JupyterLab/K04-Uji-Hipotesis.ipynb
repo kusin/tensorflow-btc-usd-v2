{
 "cells": [
  {
   "cell_type": "markdown",
   "metadata": {},
   "source": [
    "### Uji Hipotesis - Model Prediksi BTC-USD "
   ]
  },
  {
   "cell_type": "code",
   "execution_count": 1,
   "metadata": {},
   "outputs": [],
   "source": [
    "# lib statistic \n",
    "import scipy.stats as sc\n",
    "\n",
    "# lib manipulation dataset\n",
    "import pandas as pd\n",
    "import numpy as np"
   ]
  },
  {
   "cell_type": "code",
   "execution_count": 2,
   "metadata": {},
   "outputs": [
    {
     "name": "stdout",
     "output_type": "stream",
     "text": [
      "<class 'pandas.core.frame.DataFrame'>\n",
      "RangeIndex: 30 entries, 0 to 29\n",
      "Data columns (total 8 columns):\n",
      " #   Column     Non-Null Count  Dtype  \n",
      "---  ------     --------------  -----  \n",
      " 0   LSTM-R     30 non-null     float64\n",
      " 1   LSTM-MAE   30 non-null     float64\n",
      " 2   LSTM-RMSE  30 non-null     float64\n",
      " 3   LSTM-MAPE  30 non-null     float64\n",
      " 4   GRU-R      30 non-null     float64\n",
      " 5   GRU-MAE    30 non-null     float64\n",
      " 6   GRU-RMSE   30 non-null     float64\n",
      " 7   GRU-MAPE   30 non-null     float64\n",
      "dtypes: float64(8)\n",
      "memory usage: 2.0 KB\n",
      "None\n"
     ]
    }
   ],
   "source": [
    "# load dataset\n",
    "df = pd.read_excel(\"../dataset/hasil_penelitian.xlsx\", sheet_name=\"Sheet2\")\n",
    "print(df.info())"
   ]
  },
  {
   "cell_type": "markdown",
   "metadata": {},
   "source": [
    "- Normality Test with Kolmogorov-Smirnov and Shapiro-Wilk"
   ]
  },
  {
   "cell_type": "code",
   "execution_count": 4,
   "metadata": {},
   "outputs": [
    {
     "data": {
      "text/plain": [
       "KstestResult(statistic=0.5333333333333333, pvalue=0.0002933405491362055, statistic_location=0.0309, statistic_sign=-1)"
      ]
     },
     "execution_count": 4,
     "metadata": {},
     "output_type": "execute_result"
    }
   ],
   "source": [
    "sc.kstest(df[\"LSTM-MAPE\"], df[\"GRU-MAPE\"])\n"
   ]
  },
  {
   "cell_type": "code",
   "execution_count": null,
   "metadata": {},
   "outputs": [],
   "source": []
  }
 ],
 "metadata": {
  "kernelspec": {
   "display_name": "base",
   "language": "python",
   "name": "python3"
  },
  "language_info": {
   "codemirror_mode": {
    "name": "ipython",
    "version": 3
   },
   "file_extension": ".py",
   "mimetype": "text/x-python",
   "name": "python",
   "nbconvert_exporter": "python",
   "pygments_lexer": "ipython3",
   "version": "3.11.9"
  }
 },
 "nbformat": 4,
 "nbformat_minor": 2
}
