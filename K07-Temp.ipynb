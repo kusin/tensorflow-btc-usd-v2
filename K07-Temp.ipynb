{
 "cells": [
  {
   "cell_type": "code",
   "execution_count": 1,
   "metadata": {},
   "outputs": [],
   "source": [
    "# lib statistic \n",
    "import scipy.stats as sc\n",
    "\n",
    "# lib manipulation dataset\n",
    "import pandas as pd\n",
    "import numpy as np\n",
    "\n",
    "# lib data visualization\n",
    "import seaborn as sns\n",
    "import matplotlib.pyplot as plt\n",
    "\n",
    "# lib min-max scaler\n",
    "from sklearn.preprocessing import MinMaxScaler"
   ]
  },
  {
   "cell_type": "code",
   "execution_count": 2,
   "metadata": {},
   "outputs": [
    {
     "data": {
      "text/html": [
       "<div>\n",
       "<style scoped>\n",
       "    .dataframe tbody tr th:only-of-type {\n",
       "        vertical-align: middle;\n",
       "    }\n",
       "\n",
       "    .dataframe tbody tr th {\n",
       "        vertical-align: top;\n",
       "    }\n",
       "\n",
       "    .dataframe thead th {\n",
       "        text-align: right;\n",
       "    }\n",
       "</style>\n",
       "<table border=\"1\" class=\"dataframe\">\n",
       "  <thead>\n",
       "    <tr style=\"text-align: right;\">\n",
       "      <th></th>\n",
       "      <th>LSTM-R</th>\n",
       "      <th>LSTM-MAE</th>\n",
       "      <th>LSTM-RMSE</th>\n",
       "      <th>LSTM-MAPE</th>\n",
       "      <th>LSTM-TIME</th>\n",
       "      <th>GRU-R</th>\n",
       "      <th>GRU-MAE</th>\n",
       "      <th>GRU-RMSE</th>\n",
       "      <th>GRU-MAPE</th>\n",
       "      <th>GRU-TIME</th>\n",
       "    </tr>\n",
       "  </thead>\n",
       "  <tbody>\n",
       "    <tr>\n",
       "      <th>25</th>\n",
       "      <td>0.996</td>\n",
       "      <td>998.54</td>\n",
       "      <td>1389.89</td>\n",
       "      <td>0.033</td>\n",
       "      <td>206.71</td>\n",
       "      <td>0.998</td>\n",
       "      <td>745.23</td>\n",
       "      <td>1138.93</td>\n",
       "      <td>0.022</td>\n",
       "      <td>182.44</td>\n",
       "    </tr>\n",
       "    <tr>\n",
       "      <th>26</th>\n",
       "      <td>0.996</td>\n",
       "      <td>927.54</td>\n",
       "      <td>1492.65</td>\n",
       "      <td>0.026</td>\n",
       "      <td>212.06</td>\n",
       "      <td>0.998</td>\n",
       "      <td>655.64</td>\n",
       "      <td>1057.58</td>\n",
       "      <td>0.020</td>\n",
       "      <td>187.18</td>\n",
       "    </tr>\n",
       "    <tr>\n",
       "      <th>27</th>\n",
       "      <td>0.997</td>\n",
       "      <td>1103.58</td>\n",
       "      <td>1731.08</td>\n",
       "      <td>0.031</td>\n",
       "      <td>200.93</td>\n",
       "      <td>0.998</td>\n",
       "      <td>742.61</td>\n",
       "      <td>1135.24</td>\n",
       "      <td>0.022</td>\n",
       "      <td>175.36</td>\n",
       "    </tr>\n",
       "    <tr>\n",
       "      <th>28</th>\n",
       "      <td>0.996</td>\n",
       "      <td>1053.37</td>\n",
       "      <td>1506.68</td>\n",
       "      <td>0.034</td>\n",
       "      <td>201.54</td>\n",
       "      <td>0.998</td>\n",
       "      <td>959.82</td>\n",
       "      <td>1430.14</td>\n",
       "      <td>0.027</td>\n",
       "      <td>179.48</td>\n",
       "    </tr>\n",
       "    <tr>\n",
       "      <th>29</th>\n",
       "      <td>0.996</td>\n",
       "      <td>1153.48</td>\n",
       "      <td>1703.01</td>\n",
       "      <td>0.035</td>\n",
       "      <td>215.59</td>\n",
       "      <td>0.997</td>\n",
       "      <td>901.25</td>\n",
       "      <td>1218.17</td>\n",
       "      <td>0.030</td>\n",
       "      <td>186.33</td>\n",
       "    </tr>\n",
       "  </tbody>\n",
       "</table>\n",
       "</div>"
      ],
      "text/plain": [
       "    LSTM-R  LSTM-MAE  LSTM-RMSE  LSTM-MAPE  LSTM-TIME  GRU-R  GRU-MAE  \\\n",
       "25   0.996    998.54    1389.89      0.033     206.71  0.998   745.23   \n",
       "26   0.996    927.54    1492.65      0.026     212.06  0.998   655.64   \n",
       "27   0.997   1103.58    1731.08      0.031     200.93  0.998   742.61   \n",
       "28   0.996   1053.37    1506.68      0.034     201.54  0.998   959.82   \n",
       "29   0.996   1153.48    1703.01      0.035     215.59  0.997   901.25   \n",
       "\n",
       "    GRU-RMSE  GRU-MAPE  GRU-TIME  \n",
       "25   1138.93     0.022    182.44  \n",
       "26   1057.58     0.020    187.18  \n",
       "27   1135.24     0.022    175.36  \n",
       "28   1430.14     0.027    179.48  \n",
       "29   1218.17     0.030    186.33  "
      ]
     },
     "execution_count": 2,
     "metadata": {},
     "output_type": "execute_result"
    }
   ],
   "source": [
    "# load dataset\n",
    "dataset = pd.read_excel(\"dataset/hasil_penelitian.xlsx\", sheet_name=\"hasil evaluasi windows\")\n",
    "np.round(dataset.tail(),3)"
   ]
  },
  {
   "cell_type": "code",
   "execution_count": 3,
   "metadata": {},
   "outputs": [],
   "source": [
    "lstm = dataset[\"LSTM-MAPE\"]\n",
    "gru = dataset[\"GRU-MAPE\"]"
   ]
  },
  {
   "cell_type": "code",
   "execution_count": 4,
   "metadata": {},
   "outputs": [
    {
     "name": "stdout",
     "output_type": "stream",
     "text": [
      "Hasil Uji-Shapiro-Wilk\n",
      "----------------------\n",
      "\n",
      "Metode LSTM\n",
      "Terima H0 = data terdistribusi normal\n",
      "Metode GRU\n",
      "Terima H0 = data terdistribusi normal\n"
     ]
    }
   ],
   "source": [
    "print(\"Hasil Uji-Shapiro-Wilk\")\n",
    "print(\"----------------------\")\n",
    "print(\"\")\n",
    "\n",
    "print(\"Metode LSTM\")\n",
    "if sc.shapiro(lstm).pvalue > 0.05:\n",
    "  print(\"Terima H0 = data terdistribusi normal\")\n",
    "else:\n",
    "  print(\"Terima H1 = data tidak terdistribusi normal\")\n",
    "\n",
    "print(\"Metode GRU\")\n",
    "if sc.shapiro(gru).pvalue > 0.05:\n",
    "  print(\"Terima H0 = data terdistribusi normal\")\n",
    "else:\n",
    "  print(\"Terima H1 = data tidak terdistribusi normal\")"
   ]
  },
  {
   "cell_type": "code",
   "execution_count": 5,
   "metadata": {},
   "outputs": [
    {
     "data": {
      "text/plain": [
       "AndersonResult(statistic=0.42200779542558564, critical_values=array([0.521, 0.593, 0.712, 0.83 , 0.988]), significance_level=array([15. , 10. ,  5. ,  2.5,  1. ]), fit_result=  params: FitParams(loc=0.03326333333333333, scale=0.004958133918524487)\n",
       " success: True\n",
       " message: '`anderson` successfully fit the distribution to the data.')"
      ]
     },
     "execution_count": 5,
     "metadata": {},
     "output_type": "execute_result"
    }
   ],
   "source": [
    "sc.anderson(lstm)"
   ]
  },
  {
   "cell_type": "code",
   "execution_count": null,
   "metadata": {},
   "outputs": [],
   "source": []
  }
 ],
 "metadata": {
  "kernelspec": {
   "display_name": "py310",
   "language": "python",
   "name": "python3"
  },
  "language_info": {
   "codemirror_mode": {
    "name": "ipython",
    "version": 3
   },
   "file_extension": ".py",
   "mimetype": "text/x-python",
   "name": "python",
   "nbconvert_exporter": "python",
   "pygments_lexer": "ipython3",
   "version": "3.10.14"
  }
 },
 "nbformat": 4,
 "nbformat_minor": 2
}
