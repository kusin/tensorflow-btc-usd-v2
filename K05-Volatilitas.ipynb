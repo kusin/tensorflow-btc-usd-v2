{
 "cells": [
  {
   "cell_type": "code",
   "execution_count": 1,
   "metadata": {},
   "outputs": [
    {
     "name": "stdout",
     "output_type": "stream",
     "text": [
      "Volatilitas Tahunan Bitcoin (BTC):\n",
      "2015: 3.60%\n",
      "2016: 2.51%\n",
      "2017: 4.99%\n",
      "2018: 4.24%\n",
      "2019: 3.56%\n",
      "2020: 3.77%\n",
      "2021: 4.20%\n",
      "2022: 3.32%\n",
      "2023: 2.29%\n",
      "2024: 3.10%\n"
     ]
    }
   ],
   "source": [
    "import pandas as pd\n",
    "import numpy as np\n",
    "\n",
    "# Memuat dataset\n",
    "data = pd.read_csv('dataset/BTC-USD.csv')\n",
    "\n",
    "# Konversi kolom tanggal menjadi format datetime\n",
    "data['Date'] = pd.to_datetime(data['Date'])\n",
    "\n",
    "# Menghitung return harian\n",
    "data['Return Harian'] = data['Close'].pct_change() * 100\n",
    "\n",
    "# Menghitung volatilitas tahunan\n",
    "def hitung_volatilitas_tahunan(data, tahun):\n",
    "  # Filter data untuk tahun yang diinginkan\n",
    "  data_tahun = data[data['Date'].dt.year == tahun]\n",
    "\n",
    "  # Hitung return harian\n",
    "  return_harian = data_tahun['Return Harian']\n",
    "\n",
    "  # Hitung volatilitas (deviasi standar)\n",
    "  volatilitas = np.std(return_harian)\n",
    "\n",
    "  # Kembalikan volatilitas\n",
    "  return volatilitas\n",
    "\n",
    "# Menghitung volatilitas untuk setiap tahun\n",
    "volatilitas_tahunan = []\n",
    "for tahun in range(2015, 2025):\n",
    "  volatilitas = hitung_volatilitas_tahunan(data, tahun)\n",
    "  volatilitas_tahunan.append((tahun, volatilitas))\n",
    "\n",
    "# Menampilkan hasil\n",
    "print(\"Volatilitas Tahunan Bitcoin (BTC):\")\n",
    "for tahun, volatilitas in volatilitas_tahunan:\n",
    "  print(f\"{tahun}: {volatilitas:.2f}%\")\n"
   ]
  },
  {
   "cell_type": "code",
   "execution_count": 2,
   "metadata": {},
   "outputs": [
    {
     "name": "stdout",
     "output_type": "stream",
     "text": [
      "Volatilitas untuk tahun 2015: 57.21\n",
      "Volatilitas untuk tahun 2016: 39.90\n",
      "Volatilitas untuk tahun 2017: 79.24\n",
      "Volatilitas untuk tahun 2018: 67.36\n",
      "Volatilitas untuk tahun 2019: 56.55\n",
      "Volatilitas untuk tahun 2020: 59.86\n",
      "Volatilitas untuk tahun 2021: 66.82\n",
      "Volatilitas untuk tahun 2022: 52.80\n",
      "Volatilitas untuk tahun 2023: 36.37\n",
      "Volatilitas untuk tahun 2024: 49.34\n"
     ]
    }
   ],
   "source": [
    "import pandas as pd\n",
    "import numpy as np\n",
    "\n",
    "# Muat data BTC-USD\n",
    "btc_data = pd.read_csv('dataset/BTC-USD.csv', parse_dates=['Date'])\n",
    "\n",
    "# Hitung pengembalian harian\n",
    "btc_data['daily_return'] = btc_data['Close'].pct_change()\n",
    "\n",
    "# Hapus baris dengan nilai NaN\n",
    "#btc_data.dropna(inplace=True)\n",
    "\n",
    "# Tambahkan kolom tahun\n",
    "btc_data['Year'] = btc_data['Date'].dt.year\n",
    "\n",
    "# Hitung volatilitas tahunan\n",
    "annual_volatility = btc_data.groupby('Year')['daily_return'].std() * np.sqrt(252)\n",
    "annual_volatility = annual_volatility * 100\n",
    "\n",
    "# Tampilkan hasil\n",
    "for year, volatility in annual_volatility.items():\n",
    "    print(f\"Volatilitas untuk tahun {year}: {volatility:.2f}\")"
   ]
  },
  {
   "cell_type": "code",
   "execution_count": 4,
   "metadata": {},
   "outputs": [
    {
     "name": "stdout",
     "output_type": "stream",
     "text": [
      "   Year  Annual High  Annual Low\n",
      "0  2015       465.32      178.10\n",
      "1  2016       975.92      364.33\n",
      "2  2017     19497.40      777.76\n",
      "3  2018     17527.00     3236.76\n",
      "4  2019     13016.23     3399.47\n",
      "5  2020     29001.72     4970.79\n",
      "6  2021     67566.83    29374.15\n",
      "7  2022     47686.81    15787.28\n",
      "8  2023     44166.60    16625.08\n",
      "9  2024     73083.50    39507.37\n"
     ]
    }
   ],
   "source": [
    "import pandas as pd\n",
    "\n",
    "# Muat data BTC-USD\n",
    "btc_data = pd.read_csv('dataset/BTC-USD.csv', parse_dates=['Date'])\n",
    "\n",
    "# Tambahkan kolom tahun\n",
    "btc_data['Year'] = btc_data['Date'].dt.year\n",
    "\n",
    "# Hitung harga tertinggi dan terendah setiap tahun\n",
    "annual_high = btc_data.groupby('Year')['Close'].max().round(2)\n",
    "annual_low = btc_data.groupby('Year')['Close'].min().round(2)\n",
    "\n",
    "# Tampilkan hasil\n",
    "annual_high_low = pd.DataFrame({\n",
    "    'Annual High': annual_high,\n",
    "    'Annual Low': annual_low\n",
    "})\n",
    "\n",
    "annual_high_low = annual_high_low.reset_index()\n",
    "print(annual_high_low)"
   ]
  },
  {
   "cell_type": "code",
   "execution_count": null,
   "metadata": {},
   "outputs": [],
   "source": []
  }
 ],
 "metadata": {
  "kernelspec": {
   "display_name": "base",
   "language": "python",
   "name": "python3"
  },
  "language_info": {
   "codemirror_mode": {
    "name": "ipython",
    "version": 3
   },
   "file_extension": ".py",
   "mimetype": "text/x-python",
   "name": "python",
   "nbconvert_exporter": "python",
   "pygments_lexer": "ipython3",
   "version": "3.11.9"
  }
 },
 "nbformat": 4,
 "nbformat_minor": 2
}
