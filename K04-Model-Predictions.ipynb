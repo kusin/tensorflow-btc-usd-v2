{
 "cells": [
  {
   "cell_type": "markdown",
   "metadata": {},
   "source": [
    "## Predictions of BTC-USD Price Using SBi-LSTM and SBi-GRU"
   ]
  },
  {
   "cell_type": "code",
   "execution_count": null,
   "metadata": {},
   "outputs": [],
   "source": [
    "# lib manipulations time\n",
    "import time as tm\n",
    "\n",
    "# load all functions\n",
    "from C01_data_collection import *\n",
    "from C02_visualization import * \n",
    "from C03_preprocessing import *\n",
    "from C04_model_predictions import *\n",
    "from C05_model_evaluate import *"
   ]
  },
  {
   "cell_type": "markdown",
   "metadata": {},
   "source": [
    "- config models"
   ]
  },
  {
   "cell_type": "code",
   "execution_count": null,
   "metadata": {},
   "outputs": [],
   "source": [
    "# # set random number\n",
    "# import random as rm\n",
    "# rm.seed(1234)\n",
    "\n",
    "# # set random number\n",
    "# import numpy as np\n",
    "# np.random.seed(1234)\n",
    "\n",
    "# set random number\n",
    "import tensorflow as tf\n",
    "tf.random.set_seed(1234)"
   ]
  },
  {
   "cell_type": "markdown",
   "metadata": {},
   "source": [
    "### 1. Data Collections"
   ]
  },
  {
   "cell_type": "code",
   "execution_count": null,
   "metadata": {},
   "outputs": [],
   "source": [
    "# load dataset\n",
    "dataset = data_collection(\"BTC-USD.csv\")\n",
    "dataset.info()"
   ]
  },
  {
   "cell_type": "code",
   "execution_count": null,
   "metadata": {},
   "outputs": [],
   "source": [
    "# show dataset\n",
    "print(dataset.tail())"
   ]
  },
  {
   "cell_type": "markdown",
   "metadata": {},
   "source": [
    "### 2. Exploration Data Analysis"
   ]
  },
  {
   "cell_type": "code",
   "execution_count": null,
   "metadata": {},
   "outputs": [],
   "source": [
    "timeseries_matplotlib(dataset, [\"Open\", \"High\", \"Low\", \"Close\"])"
   ]
  },
  {
   "cell_type": "markdown",
   "metadata": {},
   "source": [
    "### 3. Data Preprocessing"
   ]
  },
  {
   "cell_type": "code",
   "execution_count": null,
   "metadata": {},
   "outputs": [],
   "source": [
    "# call func preprocessing\n",
    "scaler, scaled, x_train, y_train, x_test, y_test = preprocessing(dataset)"
   ]
  },
  {
   "cell_type": "code",
   "execution_count": null,
   "metadata": {},
   "outputs": [],
   "source": [
    "# check results\n",
    "print(x_train.shape, y_train.shape)"
   ]
  },
  {
   "cell_type": "code",
   "execution_count": null,
   "metadata": {},
   "outputs": [],
   "source": [
    "# check results\n",
    "print(x_test.shape, y_test.shape)"
   ]
  },
  {
   "cell_type": "code",
   "execution_count": null,
   "metadata": {},
   "outputs": [],
   "source": [
    "# results preprocessing data\n",
    "lineplot_matplotlib1(\n",
    "  x=dataset[[\"Date\"]].iloc[len(y_train)+120:], y=y_test, label=\"Close Price\", title=\"Results of Preprocessing Data\",\n",
    ")"
   ]
  },
  {
   "cell_type": "markdown",
   "metadata": {},
   "source": [
    "### 4 Model Predictions"
   ]
  },
  {
   "cell_type": "markdown",
   "metadata": {},
   "source": [
    "#### 4.1 Algorithms SBi-LSTM-RNN"
   ]
  },
  {
   "cell_type": "markdown",
   "metadata": {},
   "source": [
    "- training models"
   ]
  },
  {
   "cell_type": "code",
   "execution_count": null,
   "metadata": {},
   "outputs": [],
   "source": [
    "# measuring execution time\n",
    "start_time = tm.time()\n",
    "\n",
    "# set algorithms\n",
    "algorithms = \"SBi-LSTM-RNN\"\n",
    "\n",
    "# results predictions\n",
    "history, predictions = get_models(algorithms, x_train, y_train, x_test, y_test)\n",
    "\n",
    "# measuring execution time\n",
    "end_time = tm.time()\n",
    "\n",
    "# calculating the total execution time\n",
    "execution_time = end_time - start_time"
   ]
  },
  {
   "cell_type": "markdown",
   "metadata": {},
   "source": [
    "- loss function"
   ]
  },
  {
   "cell_type": "code",
   "execution_count": null,
   "metadata": {},
   "outputs": [],
   "source": [
    "# show loss function\n",
    "lineplot_matplotlib3(\n",
    "  title=\"Results Loss Function Using SBi-LSTM-RNN\",\n",
    "  x1=history.epoch, y1=history.history['loss'], label1=\"Training\",\n",
    "  x2=history.epoch, y2=history.history['val_loss'], label2=\"Validation\",\n",
    ")"
   ]
  },
  {
   "cell_type": "markdown",
   "metadata": {},
   "source": [
    "- results predictions"
   ]
  },
  {
   "cell_type": "code",
   "execution_count": null,
   "metadata": {},
   "outputs": [],
   "source": [
    "# show predictions\n",
    "lineplot_matplotlib2(\n",
    "  title=\"Results Prediction Using SBi-LSTM-RNN\",\n",
    "  x1=dataset[[\"Date\"]].iloc[len(y_train)+120:], y1=inverse(scaler=scaler,scaled=y_test), label1=\"actual data\",\n",
    "  x2=dataset[[\"Date\"]].iloc[len(y_train)+120:], y2=inverse(scaler=scaler,scaled=predictions), label2=\"results predictions\",\n",
    ")"
   ]
  },
  {
   "cell_type": "code",
   "execution_count": null,
   "metadata": {},
   "outputs": [],
   "source": [
    "# calculate eror\n",
    "r, p_value, mae, rmse, mape = evaluate_models(\n",
    "  inverse(scaler=scaler,scaled=y_test),\n",
    "  inverse(scaler=scaler,scaled=predictions)\n",
    ")\n",
    "\n",
    "# show eror\n",
    "print(\"Evaluate Models with : \"+str(algorithms))\n",
    "print(\"-------------------------------\")\n",
    "print(\"R       : \"+str(r))\n",
    "print(\"P-value : \"+str(p_value))\n",
    "print(\"MAE     : \"+str(mae))\n",
    "print(\"RMSE    : \"+str(rmse))\n",
    "print(\"MAPE    : \"+str(mape))\n",
    "print(\"Time    : \"+\"{:,.2f}\".format(execution_time))"
   ]
  },
  {
   "cell_type": "markdown",
   "metadata": {},
   "source": [
    "#### 4.2 Algorithms SBi-GRU-RNN"
   ]
  },
  {
   "cell_type": "markdown",
   "metadata": {},
   "source": [
    "- training models"
   ]
  },
  {
   "cell_type": "code",
   "execution_count": null,
   "metadata": {},
   "outputs": [],
   "source": [
    "# measuring execution time\n",
    "start_time = tm.time()\n",
    "\n",
    "# set algorithms\n",
    "algorithms = \"SBi-GRU-RNN\"\n",
    "\n",
    "# results predictions\n",
    "history, predictions = get_models(algorithms, x_train, y_train, x_test, y_test)\n",
    "\n",
    "# measuring execution time\n",
    "end_time = tm.time()\n",
    "\n",
    "# calculating the total execution time\n",
    "execution_time = end_time - start_time"
   ]
  },
  {
   "cell_type": "markdown",
   "metadata": {},
   "source": [
    "- loss function"
   ]
  },
  {
   "cell_type": "code",
   "execution_count": null,
   "metadata": {},
   "outputs": [],
   "source": [
    "# show loss function\n",
    "lineplot_matplotlib3(\n",
    "  title=\"Results Loss Function Using SBi-GRU-RNN\",\n",
    "  x1=history.epoch, y1=history.history['loss'], label1=\"Training\",\n",
    "  x2=history.epoch, y2=history.history['val_loss'], label2=\"Validation\",\n",
    ")"
   ]
  },
  {
   "cell_type": "markdown",
   "metadata": {},
   "source": [
    "- results predictions"
   ]
  },
  {
   "cell_type": "code",
   "execution_count": null,
   "metadata": {},
   "outputs": [],
   "source": [
    "# show predictions\n",
    "lineplot_matplotlib2(\n",
    "  title=\"Results Prediction Using SBi-GRU-RNN\",\n",
    "  x1=dataset[[\"Date\"]].iloc[len(y_train)+120:], y1=inverse(scaler=scaler,scaled=y_test), label1=\"actual data\",\n",
    "  x2=dataset[[\"Date\"]].iloc[len(y_train)+120:], y2=inverse(scaler=scaler,scaled=predictions), label2=\"results predictions\",\n",
    ")"
   ]
  },
  {
   "cell_type": "code",
   "execution_count": null,
   "metadata": {},
   "outputs": [],
   "source": [
    "# calculate eror\n",
    "r, p_value, mae, rmse, mape = evaluate_models(\n",
    "  inverse(scaler=scaler,scaled=y_test),\n",
    "  inverse(scaler=scaler,scaled=predictions)\n",
    ")\n",
    "\n",
    "# show eror\n",
    "print(\"Evaluate Models with : \"+str(algorithms))\n",
    "print(\"-------------------------------\")\n",
    "print(\"R       : \"+str(r))\n",
    "print(\"P-value : \"+str(p_value))\n",
    "print(\"MAE     : \"+str(mae))\n",
    "print(\"RMSE    : \"+str(rmse))\n",
    "print(\"MAPE    : \"+str(mape))\n",
    "print(\"Time    : \"+\"{:,.2f}\".format(execution_time))"
   ]
  },
  {
   "cell_type": "code",
   "execution_count": null,
   "metadata": {},
   "outputs": [],
   "source": []
  }
 ],
 "metadata": {
  "kernelspec": {
   "display_name": "base",
   "language": "python",
   "name": "python3"
  },
  "language_info": {
   "codemirror_mode": {
    "name": "ipython",
    "version": 3
   },
   "file_extension": ".py",
   "mimetype": "text/x-python",
   "name": "python",
   "nbconvert_exporter": "python",
   "pygments_lexer": "ipython3",
   "version": "3.10.14"
  }
 },
 "nbformat": 4,
 "nbformat_minor": 2
}
